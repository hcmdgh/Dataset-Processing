{
 "cells": [
  {
   "cell_type": "code",
   "execution_count": 19,
   "metadata": {},
   "outputs": [],
   "source": [
    "import pickle \n",
    "from collections import Counter \n",
    "\n",
    "\n",
    "def count_label(label, total):\n",
    "    N = len(label)\n",
    "    counter = Counter(label.tolist())\n",
    "    d = dict(counter)\n",
    "    \n",
    "    print(f\"{len(d)}类，{N} ({int(N * 100 / total)}%)\")\n",
    "    \n",
    "    sum_ = sum(d.values())\n",
    "    cnt_list = list(d.items())\n",
    "    cnt_list.sort(key=lambda x: -x[1])\n",
    "    \n",
    "    str_list = []\n",
    "    \n",
    "    for lb, cnt in cnt_list:\n",
    "        percent = int(cnt * 100 / sum_)\n",
    "        str_list.append(f\"{lb}: {cnt} ({percent}%)\") \n",
    "\n",
    "    if len(str_list) <= 20:\n",
    "        print(', '.join(str_list))\n",
    "    else:\n",
    "        print(', '.join(str_list[:5]) + ', ..., ' + ', '.join(str_list[-5:]))"
   ]
  },
  {
   "cell_type": "code",
   "execution_count": 20,
   "metadata": {},
   "outputs": [
    {
     "data": {
      "text/plain": [
       "Graph(num_nodes={'author': 510189, 'field': 45717, 'institution': 9079, 'paper': 544244, 'venue': 6933},\n",
       "      num_edges={('author', 'AI', 'institution'): 612872, ('author', 'AP_first', 'paper'): 454913, ('author', 'AP_last', 'paper'): 429392, ('author', 'AP_other', 'paper'): 662167, ('field', 'FF', 'field'): 262526, ('field', 'FF_rev', 'field'): 262526, ('field', 'FP_L0', 'paper'): 544371, ('field', 'FP_L1', 'paper'): 1197205, ('field', 'FP_L2', 'paper'): 2337525, ('field', 'FP_L3', 'paper'): 866423, ('field', 'FP_L4', 'paper'): 303541, ('field', 'FP_L5', 'paper'): 202221, ('institution', 'IA', 'author'): 612872, ('paper', 'PA_first', 'author'): 454913, ('paper', 'PA_last', 'author'): 429392, ('paper', 'PA_other', 'author'): 662167, ('paper', 'PF_L0', 'field'): 544371, ('paper', 'PF_L1', 'field'): 1197205, ('paper', 'PF_L2', 'field'): 2337525, ('paper', 'PF_L3', 'field'): 866423, ('paper', 'PF_L4', 'field'): 303541, ('paper', 'PF_L5', 'field'): 202221, ('paper', 'PP_cite', 'paper'): 5796354, ('paper', 'PP_cited', 'paper'): 5796354, ('paper', 'PV_conference', 'venue'): 296775, ('paper', 'PV_patent', 'venue'): 191, ('paper', 'PV_repository', 'venue'): 19216, ('venue', 'VP_conference', 'paper'): 296775, ('venue', 'VP_patent', 'paper'): 191, ('venue', 'VP_repository', 'paper'): 19216},\n",
       "      metagraph=[('author', 'institution', 'AI'), ('author', 'paper', 'AP_first'), ('author', 'paper', 'AP_last'), ('author', 'paper', 'AP_other'), ('institution', 'author', 'IA'), ('paper', 'author', 'PA_first'), ('paper', 'author', 'PA_last'), ('paper', 'author', 'PA_other'), ('paper', 'field', 'PF_L0'), ('paper', 'field', 'PF_L1'), ('paper', 'field', 'PF_L2'), ('paper', 'field', 'PF_L3'), ('paper', 'field', 'PF_L4'), ('paper', 'field', 'PF_L5'), ('paper', 'paper', 'PP_cite'), ('paper', 'paper', 'PP_cited'), ('paper', 'venue', 'PV_conference'), ('paper', 'venue', 'PV_patent'), ('paper', 'venue', 'PV_repository'), ('field', 'field', 'FF'), ('field', 'field', 'FF_rev'), ('field', 'paper', 'FP_L0'), ('field', 'paper', 'FP_L1'), ('field', 'paper', 'FP_L2'), ('field', 'paper', 'FP_L3'), ('field', 'paper', 'FP_L4'), ('field', 'paper', 'FP_L5'), ('venue', 'paper', 'VP_conference'), ('venue', 'paper', 'VP_patent'), ('venue', 'paper', 'VP_repository')])"
      ]
     },
     "execution_count": 20,
     "metadata": {},
     "output_type": "execute_result"
    }
   ],
   "source": [
    "with open('/Dataset/OAG-from-HGT/Processed/OAG-CS/OAG-Venue/OAG-Venue.dglhg.pkl', 'rb') as fp:\n",
    "    hg = pickle.load(fp)\n",
    "    \n",
    "hg "
   ]
  },
  {
   "cell_type": "code",
   "execution_count": 21,
   "metadata": {},
   "outputs": [
    {
     "name": "stdout",
     "output_type": "stream",
     "text": [
      "total: 1116162, 27971384\n",
      "author feat: torch.Size([510189, 400])\n",
      "field feat: torch.Size([45717, 400])\n",
      "institution feat: torch.Size([9079, 400])\n",
      "paper feat: torch.Size([544244, 768])\n",
      "venue feat: torch.Size([6933, 400])\n"
     ]
    }
   ],
   "source": [
    "print(f\"total: {hg.num_nodes()}, {hg.num_edges()}\")\n",
    "\n",
    "for ntype in hg.ntypes:\n",
    "    print(f\"{ntype} feat: {hg.nodes[ntype].data['feat'].shape}\")"
   ]
  },
  {
   "cell_type": "code",
   "execution_count": 22,
   "metadata": {},
   "outputs": [
    {
     "name": "stdout",
     "output_type": "stream",
     "text": [
      "num_classes: 3505\n",
      "3505类，228062 (41%)\n",
      "1178: 4919 (2%), 2734: 3497 (1%), 271: 3302 (1%), 636: 2976 (1%), 1017: 2965 (1%), ..., 3495: 1 (0%), 3500: 1 (0%), 3502: 1 (0%), 3503: 1 (0%), 3504: 1 (0%)\n",
      "2915类，147769 (64%)\n",
      "1178: 3188 (2%), 1017: 2417 (1%), 271: 2407 (1%), 91: 2155 (1%), 242: 1979 (1%), ..., 3481: 1 (0%), 3500: 1 (0%), 3502: 1 (0%), 3503: 1 (0%), 3504: 1 (0%)\n",
      "1741类，33582 (14%)\n",
      "2246: 744 (2%), 1178: 723 (2%), 2734: 676 (2%), 636: 529 (1%), 224: 483 (1%), ..., 3487: 1 (0%), 3490: 1 (0%), 3493: 1 (0%), 3495: 1 (0%), 3497: 1 (0%)\n",
      "1677类，46711 (20%)\n",
      "636: 2370 (5%), 224: 1493 (3%), 1592: 1152 (2%), 2734: 1135 (2%), 1178: 1008 (2%), ..., 3465: 1 (0%), 3468: 1 (0%), 3482: 1 (0%), 3483: 1 (0%), 3487: 1 (0%)\n"
     ]
    }
   ],
   "source": [
    "INFER_NTYPE = 'paper'\n",
    "\n",
    "label = hg.nodes[INFER_NTYPE].data['label']\n",
    "real_label = label[label >= 0]\n",
    "print(f\"num_classes: {len(real_label.unique())}\")\n",
    "count_label(real_label, hg.num_nodes(INFER_NTYPE))\n",
    "\n",
    "train_mask = hg.nodes[INFER_NTYPE].data['train_mask']\n",
    "val_mask = hg.nodes[INFER_NTYPE].data['val_mask']\n",
    "test_mask = hg.nodes[INFER_NTYPE].data['test_mask']\n",
    "count_label(label[train_mask], len(real_label))\n",
    "count_label(label[val_mask], len(real_label))\n",
    "count_label(label[test_mask], len(real_label))"
   ]
  }
 ],
 "metadata": {
  "kernelspec": {
   "display_name": "Python 3.9.7 ('base')",
   "language": "python",
   "name": "python3"
  },
  "language_info": {
   "codemirror_mode": {
    "name": "ipython",
    "version": 3
   },
   "file_extension": ".py",
   "mimetype": "text/x-python",
   "name": "python",
   "nbconvert_exporter": "python",
   "pygments_lexer": "ipython3",
   "version": "3.9.7"
  },
  "orig_nbformat": 4,
  "vscode": {
   "interpreter": {
    "hash": "db203275a0662fbdba278253e7b36bd0b0deda9dd533b0aa2c1408581fb76a05"
   }
  }
 },
 "nbformat": 4,
 "nbformat_minor": 2
}
