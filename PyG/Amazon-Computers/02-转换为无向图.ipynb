{
 "cells": [
  {
   "cell_type": "code",
   "execution_count": null,
   "metadata": {},
   "outputs": [],
   "source": [
    "import os \n",
    "import pickle \n",
    "\n",
    "with open(os.path.expanduser('~/dataset/PyG/Amazon-Computers/processed/g.dict.pkl'), 'rb') as fp:\n",
    "    pickle.dump(\n",
    "        dict(\n",
    "            edge_index = edge_index, \n",
    "            node_feat = node_feat, \n",
    "            node_label = node_label, \n",
    "        ), \n",
    "        fp, \n",
    "    )"
   ]
  }
 ],
 "metadata": {
  "language_info": {
   "name": "python"
  },
  "orig_nbformat": 4
 },
 "nbformat": 4,
 "nbformat_minor": 2
}
