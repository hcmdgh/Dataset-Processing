{
 "cells": [
  {
   "cell_type": "code",
   "execution_count": 7,
   "metadata": {},
   "outputs": [
    {
     "name": "stderr",
     "output_type": "stream",
     "text": [
      "/mnt1/genghao/anaconda3/lib/python3.9/site-packages/torch_geometric/data/in_memory_dataset.py:157: UserWarning: It is not recommended to directly access the internal storage format `data` of an 'InMemoryDataset'. If you are absolutely certain what you are doing, access the internal storage via `InMemoryDataset._data` instead to suppress this warning. Alternatively, you can access stacked individual attributes of every graph via `dataset.{attr_name}`.\n",
      "  warnings.warn(msg)\n"
     ]
    },
    {
     "data": {
      "text/plain": [
       "HeteroData(\n",
       "  \u001b[1mbook\u001b[0m={\n",
       "    num_nodes=40402,\n",
       "    y=[40402],\n",
       "    train_mask=[40402],\n",
       "    test_mask=[40402]\n",
       "  },\n",
       "  \u001b[1mfilm\u001b[0m={ num_nodes=19427 },\n",
       "  \u001b[1mmusic\u001b[0m={ num_nodes=82351 },\n",
       "  \u001b[1msports\u001b[0m={ num_nodes=1025 },\n",
       "  \u001b[1mpeople\u001b[0m={ num_nodes=17641 },\n",
       "  \u001b[1mlocation\u001b[0m={ num_nodes=9368 },\n",
       "  \u001b[1morganization\u001b[0m={ num_nodes=2731 },\n",
       "  \u001b[1mbusiness\u001b[0m={ num_nodes=7153 },\n",
       "  \u001b[1m(book, and, book)\u001b[0m={ edge_index=[2, 202674] },\n",
       "  \u001b[1m(book, to, film)\u001b[0m={ edge_index=[2, 38299] },\n",
       "  \u001b[1m(book, on, sports)\u001b[0m={ edge_index=[2, 6615] },\n",
       "  \u001b[1m(book, on, location)\u001b[0m={ edge_index=[2, 26921] },\n",
       "  \u001b[1m(book, about, organization)\u001b[0m={ edge_index=[2, 21900] },\n",
       "  \u001b[1m(film, and, film)\u001b[0m={ edge_index=[2, 87838] },\n",
       "  \u001b[1m(music, in, book)\u001b[0m={ edge_index=[2, 31486] },\n",
       "  \u001b[1m(music, in, film)\u001b[0m={ edge_index=[2, 11291] },\n",
       "  \u001b[1m(music, and, music)\u001b[0m={ edge_index=[2, 283670] },\n",
       "  \u001b[1m(music, for, sports)\u001b[0m={ edge_index=[2, 8975] },\n",
       "  \u001b[1m(music, on, location)\u001b[0m={ edge_index=[2, 42915] },\n",
       "  \u001b[1m(sports, in, film)\u001b[0m={ edge_index=[2, 6763] },\n",
       "  \u001b[1m(sports, and, sports)\u001b[0m={ edge_index=[2, 1290] },\n",
       "  \u001b[1m(sports, on, location)\u001b[0m={ edge_index=[2, 656] },\n",
       "  \u001b[1m(people, to, book)\u001b[0m={ edge_index=[2, 35587] },\n",
       "  \u001b[1m(people, to, film)\u001b[0m={ edge_index=[2, 17604] },\n",
       "  \u001b[1m(people, to, music)\u001b[0m={ edge_index=[2, 10948] },\n",
       "  \u001b[1m(people, to, sports)\u001b[0m={ edge_index=[2, 14850] },\n",
       "  \u001b[1m(people, and, people)\u001b[0m={ edge_index=[2, 22813] },\n",
       "  \u001b[1m(people, on, location)\u001b[0m={ edge_index=[2, 15134] },\n",
       "  \u001b[1m(people, in, organization)\u001b[0m={ edge_index=[2, 2215] },\n",
       "  \u001b[1m(people, in, business)\u001b[0m={ edge_index=[2, 5378] },\n",
       "  \u001b[1m(location, in, film)\u001b[0m={ edge_index=[2, 21299] },\n",
       "  \u001b[1m(location, and, location)\u001b[0m={ edge_index=[2, 47817] },\n",
       "  \u001b[1m(organization, in, film)\u001b[0m={ edge_index=[2, 13128] },\n",
       "  \u001b[1m(organization, to, music)\u001b[0m={ edge_index=[2, 10702] },\n",
       "  \u001b[1m(organization, to, sports)\u001b[0m={ edge_index=[2, 559] },\n",
       "  \u001b[1m(organization, on, location)\u001b[0m={ edge_index=[2, 2696] },\n",
       "  \u001b[1m(organization, and, organization)\u001b[0m={ edge_index=[2, 1101] },\n",
       "  \u001b[1m(organization, for, business)\u001b[0m={ edge_index=[2, 1073] },\n",
       "  \u001b[1m(business, about, book)\u001b[0m={ edge_index=[2, 18625] },\n",
       "  \u001b[1m(business, about, film)\u001b[0m={ edge_index=[2, 8397] },\n",
       "  \u001b[1m(business, about, music)\u001b[0m={ edge_index=[2, 24764] },\n",
       "  \u001b[1m(business, about, sports)\u001b[0m={ edge_index=[2, 610] },\n",
       "  \u001b[1m(business, on, location)\u001b[0m={ edge_index=[2, 6647] },\n",
       "  \u001b[1m(business, and, business)\u001b[0m={ edge_index=[2, 4448] }\n",
       ")"
      ]
     },
     "execution_count": 7,
     "metadata": {},
     "output_type": "execute_result"
    }
   ],
   "source": [
    "from torch_geometric.datasets import HGBDataset \n",
    "\n",
    "dataset = HGBDataset(root='/mnt1/genghao/dataset/HGB/raw/Freebase/PyG', name='Freebase') \n",
    "graph = dataset.data \n",
    "\n",
    "graph "
   ]
  },
  {
   "cell_type": "code",
   "execution_count": 8,
   "metadata": {},
   "outputs": [
    {
     "data": {
      "text/plain": [
       "tensor([-1, -1, -1,  ..., -1, -1,  1])"
      ]
     },
     "execution_count": 8,
     "metadata": {},
     "output_type": "execute_result"
    }
   ],
   "source": [
    "y = graph.y_dict['book'] \n",
    "\n",
    "y"
   ]
  },
  {
   "cell_type": "code",
   "execution_count": 9,
   "metadata": {},
   "outputs": [
    {
     "data": {
      "text/plain": [
       "tensor(0.1280)"
      ]
     },
     "execution_count": 9,
     "metadata": {},
     "output_type": "execute_result"
    }
   ],
   "source": [
    "(y >= 0).float().mean() "
   ]
  },
  {
   "cell_type": "code",
   "execution_count": 10,
   "metadata": {},
   "outputs": [
    {
     "data": {
      "text/plain": [
       "(tensor(0.0591), tensor(0.0689))"
      ]
     },
     "execution_count": 10,
     "metadata": {},
     "output_type": "execute_result"
    }
   ],
   "source": [
    "train_mask = graph.train_mask_dict['book']\n",
    "test_mask = graph.test_mask_dict['book'] \n",
    "\n",
    "train_mask.float().mean(), test_mask.float().mean() "
   ]
  }
 ],
 "metadata": {
  "kernelspec": {
   "display_name": "base",
   "language": "python",
   "name": "python3"
  },
  "language_info": {
   "codemirror_mode": {
    "name": "ipython",
    "version": 3
   },
   "file_extension": ".py",
   "mimetype": "text/x-python",
   "name": "python",
   "nbconvert_exporter": "python",
   "pygments_lexer": "ipython3",
   "version": "3.9.13"
  },
  "orig_nbformat": 4
 },
 "nbformat": 4,
 "nbformat_minor": 2
}
