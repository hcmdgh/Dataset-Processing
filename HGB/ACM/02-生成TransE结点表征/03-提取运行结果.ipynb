{
 "cells": [
  {
   "cell_type": "code",
   "execution_count": 3,
   "metadata": {},
   "outputs": [
    {
     "data": {
      "text/plain": [
       "((10942, 256), dtype('float32'))"
      ]
     },
     "execution_count": 3,
     "metadata": {},
     "output_type": "execute_result"
    }
   ],
   "source": [
    "import numpy as np \n",
    "import torch \n",
    "import os \n",
    "import pickle \n",
    "\n",
    "emb_path = './TransE_emb/ckpts/TransE_l2_dataset_0/dataset_TransE_l2_entity.npy' \n",
    "emb = np.load(emb_path) \n",
    "\n",
    "emb.shape, emb.dtype "
   ]
  },
  {
   "cell_type": "code",
   "execution_count": 4,
   "metadata": {},
   "outputs": [
    {
     "data": {
      "text/plain": [
       "{'author': torch.Size([5959, 256]),\n",
       " 'paper': torch.Size([3025, 256]),\n",
       " 'subject': torch.Size([56, 256]),\n",
       " 'term': torch.Size([1902, 256])}"
      ]
     },
     "execution_count": 4,
     "metadata": {},
     "output_type": "execute_result"
    }
   ],
   "source": [
    "import sys \n",
    "sys.path.append('../../../submodule')\n",
    "import torch_util \n",
    "from torch_util.imports import * \n",
    "\n",
    "with open(os.path.expanduser('~/dataset/HGB/processed/ACM_hg.dict.pkl'), 'rb') as fp: \n",
    "    graph_info = pickle.load(fp)\n",
    "    \n",
    "num_nodes_dict = graph_info['num_nodes_dict']\n",
    "    \n",
    "nid_offset_dict: dict[NodeType, int] = dict() \n",
    "nid_offset = 0 \n",
    "\n",
    "for ntype, num_nodes in sorted(num_nodes_dict.items()):\n",
    "    nid_offset_dict[ntype] = nid_offset \n",
    "    nid_offset += num_nodes \n",
    "    \n",
    "emb_dict: dict[NodeType, FloatTensor] = dict() \n",
    "\n",
    "for ntype in num_nodes_dict: \n",
    "    L = nid_offset_dict[ntype] \n",
    "    R = L + num_nodes_dict[ntype] \n",
    "    \n",
    "    emb_dict[ntype] = torch.tensor(emb[L:R], dtype=torch.float32) \n",
    "    \n",
    "{ k: v.shape for k, v in emb_dict.items() }  "
   ]
  },
  {
   "cell_type": "code",
   "execution_count": 5,
   "metadata": {},
   "outputs": [],
   "source": [
    "with open(os.path.expanduser('~/dataset/HGB/processed/ACM_TransE_emb.dict.pkl'), 'wb') as fp: \n",
    "    pickle.dump(emb_dict, fp) "
   ]
  }
 ],
 "metadata": {
  "kernelspec": {
   "display_name": "base",
   "language": "python",
   "name": "python3"
  },
  "language_info": {
   "codemirror_mode": {
    "name": "ipython",
    "version": 3
   },
   "file_extension": ".py",
   "mimetype": "text/x-python",
   "name": "python",
   "nbconvert_exporter": "python",
   "pygments_lexer": "ipython3",
   "version": "3.9.13"
  },
  "orig_nbformat": 4
 },
 "nbformat": 4,
 "nbformat_minor": 2
}
