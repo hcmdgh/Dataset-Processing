{
 "cells": [
  {
   "cell_type": "code",
   "execution_count": 6,
   "metadata": {},
   "outputs": [
    {
     "data": {
      "text/plain": [
       "{'feat_dict': {'author': array([[1., 1., 1., ..., 0., 0., 0.],\n",
       "         [1., 1., 1., ..., 0., 0., 0.],\n",
       "         [1., 1., 1., ..., 0., 0., 0.],\n",
       "         ...,\n",
       "         [0., 0., 0., ..., 0., 0., 0.],\n",
       "         [0., 0., 0., ..., 0., 0., 0.],\n",
       "         [0., 0., 0., ..., 0., 0., 0.]], dtype=float32),\n",
       "  'paper': array([[1., 1., 1., ..., 0., 0., 0.],\n",
       "         [0., 1., 0., ..., 0., 0., 0.],\n",
       "         [0., 1., 0., ..., 0., 0., 0.],\n",
       "         ...,\n",
       "         [0., 0., 0., ..., 0., 0., 0.],\n",
       "         [0., 0., 0., ..., 0., 0., 0.],\n",
       "         [0., 0., 0., ..., 0., 0., 0.]], dtype=float32),\n",
       "  'subject': array([[1., 1., 1., ..., 0., 0., 0.],\n",
       "         [1., 1., 1., ..., 1., 1., 1.],\n",
       "         [1., 1., 1., ..., 1., 0., 1.],\n",
       "         ...,\n",
       "         [0., 1., 0., ..., 0., 0., 0.],\n",
       "         [0., 1., 0., ..., 0., 0., 0.],\n",
       "         [0., 0., 0., ..., 0., 0., 0.]], dtype=float32)},\n",
       " 'num_nodes_dict': {'author': 5959,\n",
       "  'paper': 3025,\n",
       "  'subject': 56,\n",
       "  'term': 1902},\n",
       " 'edge_index_dict': {('paper',\n",
       "   'pp',\n",
       "   'paper'): array([[   0,    0,    1, ..., 3019, 3021, 3021],\n",
       "         [ 179, 2697, 2523, ..., 2547, 1001, 1110]]),\n",
       "  ('paper',\n",
       "   'pp_rev',\n",
       "   'paper'): array([[   0,    0,    0, ..., 3019, 3019, 3022],\n",
       "         [ 526,  583,  589, ..., 2591, 2648, 2584]]),\n",
       "  ('paper',\n",
       "   'pa',\n",
       "   'author'): array([[   0,    0,    0, ..., 3024, 3024, 3024],\n",
       "         [   0,    1,    2, ..., 5956, 5957, 5958]]),\n",
       "  ('author',\n",
       "   'ap',\n",
       "   'paper'): array([[   0,    0,    0, ..., 5956, 5957, 5958],\n",
       "         [   0,  734, 3015, ..., 3024, 3024, 3024]]),\n",
       "  ('paper',\n",
       "   'pt',\n",
       "   'term'): array([[   0,    0,    0, ..., 3024, 3024, 3024],\n",
       "         [   0,    1,    2, ..., 1687, 1719, 1809]]),\n",
       "  ('term',\n",
       "   'tp',\n",
       "   'paper'): array([[   0,    0,    0, ..., 1901, 1901, 1901],\n",
       "         [   0,   32,   41, ..., 2269, 2459, 2528]]),\n",
       "  ('paper',\n",
       "   'ps',\n",
       "   'subject'): array([[   0,    1,    2, ..., 3022, 3023, 3024],\n",
       "         [   0,    1,    2, ...,    5,    2,    2]]),\n",
       "  ('subject',\n",
       "   'sp',\n",
       "   'paper'): array([[   0,    0,    0, ...,   53,   54,   55],\n",
       "         [   0,   75,  586, ..., 2796, 2607, 3014]])},\n",
       " 'paper_label': array([2, 2, 2, ..., 2, 2, 2]),\n",
       " 'paper_train_mask': array([False,  True, False, ..., False, False,  True]),\n",
       " 'paper_test_mask': array([ True, False,  True, ...,  True,  True, False])}"
      ]
     },
     "execution_count": 6,
     "metadata": {},
     "output_type": "execute_result"
    }
   ],
   "source": [
    "import pickle \n",
    "import torch \n",
    "import os \n",
    "import sys \n",
    "sys.path.append('../../../submodule') \n",
    "import torch_util \n",
    "from torch_util.imports import * \n",
    "\n",
    "with open(os.path.expanduser('~/dataset/HGB/processed/ACM_hg.dict.pkl'), 'rb') as fp: \n",
    "    graph_info = pickle.load(fp)\n",
    "    \n",
    "graph_info "
   ]
  },
  {
   "cell_type": "code",
   "execution_count": 7,
   "metadata": {},
   "outputs": [
    {
     "data": {
      "text/plain": [
       "{('paper', 'pp', 'paper'): (2, 5343),\n",
       " ('paper', 'pp_rev', 'paper'): (2, 5343),\n",
       " ('paper', 'pa', 'author'): (2, 9949),\n",
       " ('author', 'ap', 'paper'): (2, 9949),\n",
       " ('paper', 'pt', 'term'): (2, 255619),\n",
       " ('term', 'tp', 'paper'): (2, 255619),\n",
       " ('paper', 'ps', 'subject'): (2, 3025),\n",
       " ('subject', 'sp', 'paper'): (2, 3025)}"
      ]
     },
     "execution_count": 7,
     "metadata": {},
     "output_type": "execute_result"
    }
   ],
   "source": [
    "edge_index_dict = graph_info['edge_index_dict']\n",
    "num_nodes_dict = graph_info['num_nodes_dict']\n",
    "\n",
    "{ k: v.shape for k, v in edge_index_dict.items() }"
   ]
  },
  {
   "cell_type": "code",
   "execution_count": 8,
   "metadata": {},
   "outputs": [
    {
     "data": {
      "application/vnd.jupyter.widget-view+json": {
       "model_id": "4343882361c142ea909b114f28548c29",
       "version_major": 2,
       "version_minor": 0
      },
      "text/plain": [
       "  0%|          | 0/8 [00:00<?, ?it/s]"
      ]
     },
     "metadata": {},
     "output_type": "display_data"
    }
   ],
   "source": [
    "os.makedirs('./TransE_emb', exist_ok=True)\n",
    "\n",
    "def convert_hg_to_triplets(edge_index_dict: dict[EdgeType, EdgeIndex], \n",
    "                           num_nodes_dict: dict[NodeType, int],\n",
    "                           output_path: str): \n",
    "    nid_offset_dict: dict[NodeType, int] = dict() \n",
    "\n",
    "    nid_offset = 0 \n",
    "\n",
    "    for ntype, num_nodes in sorted(num_nodes_dict.items()):\n",
    "        nid_offset_dict[ntype] = nid_offset \n",
    "        nid_offset += num_nodes \n",
    "\n",
    "    with open(output_path, 'w', encoding='utf-8') as fp:\n",
    "        for etype, edge_index in tqdm(edge_index_dict.items()): \n",
    "            src_ntype, _, dest_ntype = etype \n",
    "            etype = '__'.join(etype) \n",
    "            edge_index = torch.tensor(edge_index, dtype=torch.int64)\n",
    "            src_nids, dest_nids = edge_index \n",
    "            \n",
    "            src_nids.add_(nid_offset_dict[src_ntype])\n",
    "            dest_nids.add_(nid_offset_dict[dest_ntype])\n",
    "\n",
    "            for src_nid, dest_nid in zip(src_nids.tolist(), dest_nids.tolist()): \n",
    "                print(f\"{src_nid}\\t{etype}\\t{dest_nid}\", file=fp)\n",
    "\n",
    "convert_hg_to_triplets(\n",
    "    edge_index_dict = edge_index_dict, \n",
    "    num_nodes_dict = num_nodes_dict,\n",
    "    output_path = './TransE_emb/triplets.tsv', \n",
    ")"
   ]
  }
 ],
 "metadata": {
  "kernelspec": {
   "display_name": "base",
   "language": "python",
   "name": "python3"
  },
  "language_info": {
   "codemirror_mode": {
    "name": "ipython",
    "version": 3
   },
   "file_extension": ".py",
   "mimetype": "text/x-python",
   "name": "python",
   "nbconvert_exporter": "python",
   "pygments_lexer": "ipython3",
   "version": "3.9.13"
  },
  "orig_nbformat": 4
 },
 "nbformat": 4,
 "nbformat_minor": 2
}
