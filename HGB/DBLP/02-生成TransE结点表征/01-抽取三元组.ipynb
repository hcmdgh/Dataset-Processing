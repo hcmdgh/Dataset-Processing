{
 "cells": [
  {
   "cell_type": "code",
   "execution_count": 1,
   "metadata": {},
   "outputs": [
    {
     "data": {
      "text/plain": [
       "{'node_feat_dict': {'author': tensor([[0., 0., 1.,  ..., 0., 0., 0.],\n",
       "          [0., 0., 0.,  ..., 0., 0., 0.],\n",
       "          [0., 0., 0.,  ..., 0., 0., 0.],\n",
       "          ...,\n",
       "          [0., 0., 0.,  ..., 0., 0., 0.],\n",
       "          [0., 0., 0.,  ..., 0., 0., 0.],\n",
       "          [0., 0., 0.,  ..., 0., 0., 0.]]),\n",
       "  'paper': tensor([[0., 0., 0.,  ..., 0., 0., 0.],\n",
       "          [0., 0., 0.,  ..., 0., 0., 0.],\n",
       "          [0., 0., 0.,  ..., 0., 0., 0.],\n",
       "          ...,\n",
       "          [0., 0., 0.,  ..., 0., 0., 0.],\n",
       "          [0., 0., 0.,  ..., 0., 0., 0.],\n",
       "          [0., 0., 0.,  ..., 0., 0., 0.]]),\n",
       "  'term': tensor([[-0.6924, -0.4659,  1.1540,  ...,  0.9178,  0.1995, -0.6360],\n",
       "          [ 1.2031, -0.4003,  0.0740,  ...,  1.3262, -0.3325,  0.8198],\n",
       "          [ 0.3748,  0.5731,  0.4802,  ...,  1.1522,  0.6010, -0.4309],\n",
       "          ...,\n",
       "          [ 0.4180,  0.2497, -0.4124,  ..., -0.1841, -0.1151, -0.7858],\n",
       "          [ 0.1724, -0.2723, -1.3368,  ..., -0.0881,  0.0225,  0.1166],\n",
       "          [ 0.2197,  0.0253,  0.1220,  ...,  0.0871, -0.5351, -0.4949]])},\n",
       " 'num_nodes_dict': {'author': 4057, 'paper': 14328, 'term': 7723, 'venue': 20},\n",
       " 'edge_index_dict': {('author',\n",
       "   'AP',\n",
       "   'paper'): tensor([[    0,     0,     1,  ...,  4054,  4055,  4056],\n",
       "          [ 2364,  6457,  2365,  ..., 13891, 13891, 13892]]),\n",
       "  ('paper',\n",
       "   'PT',\n",
       "   'term'): tensor([[    0,     0,     0,  ..., 14327, 14327, 14327],\n",
       "          [    4,     5,     6,  ...,   586,   730,  1311]]),\n",
       "  ('paper',\n",
       "   'PV',\n",
       "   'venue'): tensor([[    0,     1,     2,  ..., 14325, 14326, 14327],\n",
       "          [    0,     0,     0,  ...,    19,    19,    19]]),\n",
       "  ('paper',\n",
       "   'PA',\n",
       "   'author'): tensor([[    0,     1,     2,  ..., 14327, 14327, 14327],\n",
       "          [  262,   263,   263,  ...,   324,  1068,  3647]]),\n",
       "  ('term',\n",
       "   'TP',\n",
       "   'paper'): tensor([[   0,    0,    0,  ..., 7720, 7721, 7722],\n",
       "          [  19,   30,  225,  ..., 5166, 5168, 5174]]),\n",
       "  ('venue',\n",
       "   'VP',\n",
       "   'paper'): tensor([[    0,     0,     0,  ...,    19,    19,    19],\n",
       "          [    0,     1,     2,  ..., 14325, 14326, 14327]])},\n",
       " 'author_label': tensor([2, 2, 3,  ..., 0, 0, 0]),\n",
       " 'author_train_mask': tensor([ True, False, False,  ..., False, False, False]),\n",
       " 'author_test_mask': tensor([False,  True,  True,  ...,  True,  True,  True])}"
      ]
     },
     "execution_count": 1,
     "metadata": {},
     "output_type": "execute_result"
    }
   ],
   "source": [
    "import pickle \n",
    "import torch \n",
    "import os \n",
    "import sys \n",
    "sys.path.append('../../../submodule') \n",
    "import torch_util \n",
    "from torch_util.imports import * \n",
    "\n",
    "with open(os.path.expanduser('~/dataset/HGB/processed/DBLP_hg.dict.pkl'), 'rb') as fp: \n",
    "    graph_info = pickle.load(fp)\n",
    "    \n",
    "graph_info "
   ]
  },
  {
   "cell_type": "code",
   "execution_count": 2,
   "metadata": {},
   "outputs": [
    {
     "data": {
      "text/plain": [
       "{('author', 'AP', 'paper'): torch.Size([2, 19645]),\n",
       " ('paper', 'PT', 'term'): torch.Size([2, 85810]),\n",
       " ('paper', 'PV', 'venue'): torch.Size([2, 14328]),\n",
       " ('paper', 'PA', 'author'): torch.Size([2, 19645]),\n",
       " ('term', 'TP', 'paper'): torch.Size([2, 85810]),\n",
       " ('venue', 'VP', 'paper'): torch.Size([2, 14328])}"
      ]
     },
     "execution_count": 2,
     "metadata": {},
     "output_type": "execute_result"
    }
   ],
   "source": [
    "edge_index_dict = graph_info['edge_index_dict']\n",
    "num_nodes_dict = graph_info['num_nodes_dict']\n",
    "\n",
    "{ k: v.shape for k, v in edge_index_dict.items() }"
   ]
  },
  {
   "cell_type": "code",
   "execution_count": 3,
   "metadata": {},
   "outputs": [
    {
     "data": {
      "application/vnd.jupyter.widget-view+json": {
       "model_id": "637993b3f04f478aa963ea127567140b",
       "version_major": 2,
       "version_minor": 0
      },
      "text/plain": [
       "  0%|          | 0/6 [00:00<?, ?it/s]"
      ]
     },
     "metadata": {},
     "output_type": "display_data"
    }
   ],
   "source": [
    "os.makedirs('./TransE_emb', exist_ok=True)\n",
    "\n",
    "def convert_hg_to_triplets(edge_index_dict: dict[EdgeType, EdgeIndex], \n",
    "                           num_nodes_dict: dict[NodeType, int],\n",
    "                           output_path: str): \n",
    "    nid_offset_dict: dict[NodeType, int] = dict() \n",
    "\n",
    "    nid_offset = 0 \n",
    "\n",
    "    for ntype, num_nodes in sorted(num_nodes_dict.items()):\n",
    "        nid_offset_dict[ntype] = nid_offset \n",
    "        nid_offset += num_nodes \n",
    "\n",
    "    with open(output_path, 'w', encoding='utf-8') as fp:\n",
    "        for etype, edge_index in tqdm(edge_index_dict.items()): \n",
    "            src_ntype, _, dest_ntype = etype \n",
    "            etype = '__'.join(etype) \n",
    "            src_nids, dest_nids = edge_index \n",
    "            \n",
    "            src_nids.add_(nid_offset_dict[src_ntype])\n",
    "            dest_nids.add_(nid_offset_dict[dest_ntype])\n",
    "\n",
    "            for src_nid, dest_nid in zip(src_nids.tolist(), dest_nids.tolist()): \n",
    "                print(f\"{src_nid}\\t{etype}\\t{dest_nid}\", file=fp)\n",
    "\n",
    "convert_hg_to_triplets(\n",
    "    edge_index_dict = edge_index_dict, \n",
    "    num_nodes_dict = num_nodes_dict,\n",
    "    output_path = './TransE_emb/triplets.tsv', \n",
    ")"
   ]
  }
 ],
 "metadata": {
  "kernelspec": {
   "display_name": "base",
   "language": "python",
   "name": "python3"
  },
  "language_info": {
   "codemirror_mode": {
    "name": "ipython",
    "version": 3
   },
   "file_extension": ".py",
   "mimetype": "text/x-python",
   "name": "python",
   "nbconvert_exporter": "python",
   "pygments_lexer": "ipython3",
   "version": "3.9.13"
  },
  "orig_nbformat": 4
 },
 "nbformat": 4,
 "nbformat_minor": 2
}
