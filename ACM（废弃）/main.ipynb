{
 "cells": [
  {
   "cell_type": "markdown",
   "metadata": {},
   "source": [
    "按照论文NARS, 2020官方代码中的说明，生成ACM异构图的结点特征。\n",
    "https://github.com/facebookresearch/NARS"
   ]
  },
  {
   "cell_type": "code",
   "execution_count": 8,
   "metadata": {},
   "outputs": [
    {
     "data": {
      "text/plain": [
       "Graph(num_nodes={'author': 17431, 'field': 73, 'paper': 4025},\n",
       "      num_edges={('author', 'AP', 'paper'): 13407, ('field', 'FP', 'paper'): 4025, ('paper', 'PA', 'author'): 13407, ('paper', 'PF', 'field'): 4025},\n",
       "      metagraph=[('author', 'paper', 'AP'), ('paper', 'author', 'PA'), ('paper', 'field', 'PF'), ('field', 'paper', 'FP')])"
      ]
     },
     "execution_count": 8,
     "metadata": {},
     "output_type": "execute_result"
    }
   ],
   "source": [
    "import pickle \n",
    "import dgl \n",
    "\n",
    "with open('/Dataset/ACM/Processed/ACM_TransE_partial.dglhg.pkl', 'rb') as fp:\n",
    "    hg = pickle.load(fp)\n",
    "    \n",
    "feat_paper = hg.nodes['paper'].data['feat']\n",
    "feat_author = hg.nodes['author'].data['feat']\n",
    "feat_field = hg.nodes['field'].data['feat']\n",
    "label = hg.nodes['paper'].data['label']\n",
    "train_mask = hg.nodes['paper'].data['train_mask']\n",
    "val_mask = hg.nodes['paper'].data['val_mask']\n",
    "test_mask = hg.nodes['paper'].data['test_mask']\n",
    "PA_edge_index = hg.edges(etype='pa')\n",
    "PF_edge_index = hg.edges(etype='pf')\n",
    "\n",
    "hg = dgl.heterograph(\n",
    "    {\n",
    "        ('paper', 'PA', 'author'): PA_edge_index,\n",
    "        ('author', 'AP', 'paper'): PA_edge_index[::-1],\n",
    "        ('paper', 'PF', 'field'): PF_edge_index,\n",
    "        ('field', 'FP', 'paper'): PF_edge_index[::-1],\n",
    "    },\n",
    "    num_nodes_dict = dict(\n",
    "        paper = len(feat_paper),\n",
    "        author = len(feat_author),\n",
    "        field = len(feat_field),\n",
    "    ),\n",
    ")\n",
    "\n",
    "hg.nodes['paper'].data['feat'] = feat_paper\n",
    "hg.nodes['author'].data['feat'] = feat_author\n",
    "hg.nodes['field'].data['feat'] = feat_field\n",
    "hg.nodes['paper'].data['label'] = label \n",
    "hg.nodes['paper'].data['train_mask'] = train_mask\n",
    "hg.nodes['paper'].data['val_mask'] = val_mask\n",
    "hg.nodes['paper'].data['test_mask'] = test_mask\n",
    "\n",
    "with open('/Dataset/ACM/Processed/ACM_TransE.dglhg.pkl', 'wb') as fp:\n",
    "    pickle.dump(hg, fp)\n",
    "\n",
    "hg "
   ]
  },
  {
   "cell_type": "code",
   "execution_count": 11,
   "metadata": {},
   "outputs": [
    {
     "data": {
      "text/plain": [
       "(21529, 34864)"
      ]
     },
     "execution_count": 11,
     "metadata": {},
     "output_type": "execute_result"
    }
   ],
   "source": [
    "hg.num_nodes(), hg.num_edges()"
   ]
  },
  {
   "cell_type": "code",
   "execution_count": 9,
   "metadata": {},
   "outputs": [
    {
     "name": "stdout",
     "output_type": "stream",
     "text": [
      "author torch.Size([17431, 128])\n",
      "field torch.Size([73, 128])\n",
      "paper torch.Size([4025, 1903])\n"
     ]
    }
   ],
   "source": [
    "for ntype in hg.ntypes:\n",
    "    print(ntype, hg.nodes[ntype].data['feat'].shape)"
   ]
  },
  {
   "cell_type": "code",
   "execution_count": 10,
   "metadata": {},
   "outputs": [
    {
     "name": "stdout",
     "output_type": "stream",
     "text": [
      "3类，4025 (100%)\n",
      "1: 1994 (49%), 0: 1061 (26%), 2: 970 (24%)\n",
      "3类，808 (20%)\n",
      "1: 400 (49%), 0: 213 (26%), 2: 195 (24%)\n",
      "3类，401 (9%)\n",
      "1: 198 (49%), 0: 106 (26%), 2: 97 (24%)\n",
      "3类，2816 (69%)\n",
      "1: 1396 (49%), 0: 742 (26%), 2: 678 (24%)\n"
     ]
    }
   ],
   "source": [
    "from collections import Counter\n",
    "\n",
    "\n",
    "def count_label(label, total):\n",
    "    N = len(label)\n",
    "    counter = Counter(label.tolist())\n",
    "    d = dict(counter)\n",
    "    \n",
    "    print(f\"{len(d)}类，{N} ({int(N * 100 / total)}%)\")\n",
    "    \n",
    "    sum_ = sum(d.values())\n",
    "    cnt_list = list(d.items())\n",
    "    cnt_list.sort(key=lambda x: -x[1])\n",
    "    \n",
    "    str_list = []\n",
    "    \n",
    "    for lb, cnt in cnt_list:\n",
    "        percent = int(cnt * 100 / sum_)\n",
    "        str_list.append(f\"{lb}: {cnt} ({percent}%)\") \n",
    "\n",
    "    print(', '.join(str_list))\n",
    "    \n",
    "    \n",
    "INFER_NTYPE = 'paper'\n",
    "\n",
    "label = hg.nodes[INFER_NTYPE].data['label']\n",
    "count_label(label, hg.num_nodes(INFER_NTYPE))\n",
    "\n",
    "train_mask = hg.nodes[INFER_NTYPE].data['train_mask']\n",
    "val_mask = hg.nodes[INFER_NTYPE].data['val_mask']\n",
    "test_mask = hg.nodes[INFER_NTYPE].data['test_mask']\n",
    "count_label(label[train_mask], hg.num_nodes(INFER_NTYPE))\n",
    "count_label(label[val_mask], hg.num_nodes(INFER_NTYPE))\n",
    "count_label(label[test_mask], hg.num_nodes(INFER_NTYPE))"
   ]
  }
 ],
 "metadata": {
  "kernelspec": {
   "display_name": "Python 3.9.7 ('base')",
   "language": "python",
   "name": "python3"
  },
  "language_info": {
   "codemirror_mode": {
    "name": "ipython",
    "version": 3
   },
   "file_extension": ".py",
   "mimetype": "text/x-python",
   "name": "python",
   "nbconvert_exporter": "python",
   "pygments_lexer": "ipython3",
   "version": "3.9.7"
  },
  "orig_nbformat": 4,
  "vscode": {
   "interpreter": {
    "hash": "db203275a0662fbdba278253e7b36bd0b0deda9dd533b0aa2c1408581fb76a05"
   }
  }
 },
 "nbformat": 4,
 "nbformat_minor": 2
}
