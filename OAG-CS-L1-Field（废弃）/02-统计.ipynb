{
 "cells": [
  {
   "cell_type": "code",
   "execution_count": 29,
   "metadata": {},
   "outputs": [],
   "source": [
    "import pickle \n",
    "from collections import Counter \n",
    "\n",
    "\n",
    "def count_label(label, total):\n",
    "    N = len(label)\n",
    "    counter = Counter(label.tolist())\n",
    "    d = dict(counter)\n",
    "    \n",
    "    print(f\"{len(d)}类，{N} ({int(N * 100 / total)}%)\")\n",
    "    \n",
    "    sum_ = sum(d.values())\n",
    "    cnt_list = list(d.items())\n",
    "    cnt_list.sort(key=lambda x: -x[1])\n",
    "    \n",
    "    str_list = []\n",
    "    \n",
    "    for lb, cnt in cnt_list:\n",
    "        percent = int(cnt * 100 / sum_)\n",
    "        str_list.append(f\"{lb}: {cnt} ({percent}%)\") \n",
    "\n",
    "    if len(str_list) <= 20:\n",
    "        print(', '.join(str_list))\n",
    "    else:\n",
    "        print(', '.join(str_list[:5]) + ', ..., ' + ', '.join(str_list[-5:]))"
   ]
  },
  {
   "cell_type": "code",
   "execution_count": 30,
   "metadata": {},
   "outputs": [
    {
     "data": {
      "text/plain": [
       "Graph(num_nodes={'author': 510189, 'field': 45717, 'institution': 9079, 'paper': 544244, 'venue': 6934},\n",
       "      num_edges={('author', 'AI', 'institution'): 612872, ('author', 'AP_first', 'paper'): 454913, ('author', 'AP_last', 'paper'): 429392, ('author', 'AP_other', 'paper'): 662167, ('field', 'FF', 'field'): 262526, ('field', 'FF_rev', 'field'): 262526, ('field', 'FP_L0', 'paper'): 544371, ('field', 'FP_L2', 'paper'): 2337525, ('field', 'FP_L3', 'paper'): 866423, ('field', 'FP_L4', 'paper'): 303541, ('field', 'FP_L5', 'paper'): 202221, ('institution', 'IA', 'author'): 612872, ('paper', 'PA_first', 'author'): 454913, ('paper', 'PA_last', 'author'): 429392, ('paper', 'PA_other', 'author'): 662167, ('paper', 'PF_L0', 'field'): 544371, ('paper', 'PF_L2', 'field'): 2337525, ('paper', 'PF_L3', 'field'): 866423, ('paper', 'PF_L4', 'field'): 303541, ('paper', 'PF_L5', 'field'): 202221, ('paper', 'PP_cite', 'paper'): 5796354, ('paper', 'PP_cited', 'paper'): 5796354, ('paper', 'PV_conference', 'venue'): 296775, ('paper', 'PV_journal', 'venue'): 228062, ('paper', 'PV_patent', 'venue'): 191, ('paper', 'PV_repository', 'venue'): 19216, ('venue', 'VP_conference', 'paper'): 296775, ('venue', 'VP_journal', 'paper'): 228062, ('venue', 'VP_patent', 'paper'): 191, ('venue', 'VP_repository', 'paper'): 19216},\n",
       "      metagraph=[('author', 'institution', 'AI'), ('author', 'paper', 'AP_first'), ('author', 'paper', 'AP_last'), ('author', 'paper', 'AP_other'), ('institution', 'author', 'IA'), ('paper', 'author', 'PA_first'), ('paper', 'author', 'PA_last'), ('paper', 'author', 'PA_other'), ('paper', 'field', 'PF_L0'), ('paper', 'field', 'PF_L2'), ('paper', 'field', 'PF_L3'), ('paper', 'field', 'PF_L4'), ('paper', 'field', 'PF_L5'), ('paper', 'paper', 'PP_cite'), ('paper', 'paper', 'PP_cited'), ('paper', 'venue', 'PV_conference'), ('paper', 'venue', 'PV_journal'), ('paper', 'venue', 'PV_patent'), ('paper', 'venue', 'PV_repository'), ('field', 'field', 'FF'), ('field', 'field', 'FF_rev'), ('field', 'paper', 'FP_L0'), ('field', 'paper', 'FP_L2'), ('field', 'paper', 'FP_L3'), ('field', 'paper', 'FP_L4'), ('field', 'paper', 'FP_L5'), ('venue', 'paper', 'VP_conference'), ('venue', 'paper', 'VP_journal'), ('venue', 'paper', 'VP_patent'), ('venue', 'paper', 'VP_repository')])"
      ]
     },
     "execution_count": 30,
     "metadata": {},
     "output_type": "execute_result"
    }
   ],
   "source": [
    "with open('/Dataset/OAG-from-HGT/Processed/OAG-CS/OAG-L1-Field/OAG-L1-Field.dglhg.pkl', 'rb') as fp:\n",
    "    hg = pickle.load(fp)\n",
    "    \n",
    "hg "
   ]
  },
  {
   "cell_type": "code",
   "execution_count": 31,
   "metadata": {},
   "outputs": [
    {
     "name": "stdout",
     "output_type": "stream",
     "text": [
      "total: 1116163, 26033098\n",
      "author feat: torch.Size([510189, 400])\n",
      "field feat: torch.Size([45717, 400])\n",
      "institution feat: torch.Size([9079, 400])\n",
      "paper feat: torch.Size([544244, 768])\n",
      "venue feat: torch.Size([6934, 400])\n"
     ]
    }
   ],
   "source": [
    "print(f\"total: {hg.num_nodes()}, {hg.num_edges()}\")\n",
    "\n",
    "for ntype in hg.ntypes:\n",
    "    print(f\"{ntype} feat: {hg.nodes[ntype].data['feat'].shape}\")"
   ]
  },
  {
   "cell_type": "code",
   "execution_count": 32,
   "metadata": {},
   "outputs": [
    {
     "data": {
      "text/plain": [
       "torch.Size([544244, 275])"
      ]
     },
     "execution_count": 32,
     "metadata": {},
     "output_type": "execute_result"
    }
   ],
   "source": [
    "label = hg.nodes['paper'].data['label']\n",
    "label.shape "
   ]
  },
  {
   "cell_type": "code",
   "execution_count": 33,
   "metadata": {},
   "outputs": [
    {
     "data": {
      "text/plain": [
       "tensor([False,  True])"
      ]
     },
     "execution_count": 33,
     "metadata": {},
     "output_type": "execute_result"
    }
   ],
   "source": [
    "label.unique()"
   ]
  },
  {
   "cell_type": "code",
   "execution_count": 34,
   "metadata": {},
   "outputs": [
    {
     "data": {
      "text/plain": [
       "tensor(2.1998)"
      ]
     },
     "execution_count": 34,
     "metadata": {},
     "output_type": "execute_result"
    }
   ],
   "source": [
    "label.float().sum(-1).mean() "
   ]
  },
  {
   "cell_type": "code",
   "execution_count": 35,
   "metadata": {},
   "outputs": [
    {
     "data": {
      "text/plain": [
       "(tensor(377082), tensor(77467), tensor(89695))"
      ]
     },
     "execution_count": 35,
     "metadata": {},
     "output_type": "execute_result"
    }
   ],
   "source": [
    "train_mask = hg.nodes['paper'].data['train_mask']\n",
    "val_mask = hg.nodes['paper'].data['val_mask']\n",
    "test_mask = hg.nodes['paper'].data['test_mask']\n",
    "\n",
    "train_mask.sum(), val_mask.sum(), test_mask.sum() "
   ]
  }
 ],
 "metadata": {
  "kernelspec": {
   "display_name": "Python 3.9.7 ('base')",
   "language": "python",
   "name": "python3"
  },
  "language_info": {
   "codemirror_mode": {
    "name": "ipython",
    "version": 3
   },
   "file_extension": ".py",
   "mimetype": "text/x-python",
   "name": "python",
   "nbconvert_exporter": "python",
   "pygments_lexer": "ipython3",
   "version": "3.9.7"
  },
  "orig_nbformat": 4,
  "vscode": {
   "interpreter": {
    "hash": "db203275a0662fbdba278253e7b36bd0b0deda9dd533b0aa2c1408581fb76a05"
   }
  }
 },
 "nbformat": 4,
 "nbformat_minor": 2
}
