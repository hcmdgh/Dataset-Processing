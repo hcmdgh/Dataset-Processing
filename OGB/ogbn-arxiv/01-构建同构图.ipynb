{
 "cells": [
  {
   "cell_type": "code",
   "execution_count": 5,
   "metadata": {},
   "outputs": [
    {
     "data": {
      "text/plain": [
       "Data(num_nodes=169343, edge_index=[2, 1166243], x=[169343, 128], node_year=[169343, 1], y=[169343, 1])"
      ]
     },
     "execution_count": 5,
     "metadata": {},
     "output_type": "execute_result"
    }
   ],
   "source": [
    "import os \n",
    "import ogb \n",
    "from ogb.nodeproppred import PygNodePropPredDataset \n",
    "\n",
    "dataset = PygNodePropPredDataset(name='ogbn-arxiv', root=os.path.expanduser('~/dataset/OGB/ogbn-arxiv/raw')) \n",
    "g = dataset[0]\n",
    "\n",
    "g "
   ]
  },
  {
   "cell_type": "code",
   "execution_count": 6,
   "metadata": {},
   "outputs": [
    {
     "data": {
      "text/plain": [
       "(tensor(0.5370), tensor(0.1760), tensor(0.2870))"
      ]
     },
     "execution_count": 6,
     "metadata": {},
     "output_type": "execute_result"
    }
   ],
   "source": [
    "import torch \n",
    "\n",
    "split_idx = dataset.get_idx_split()\n",
    "train_idx, valid_idx, test_idx = split_idx[\"train\"].squeeze(), split_idx[\"valid\"].squeeze(), split_idx[\"test\"].squeeze() \n",
    "\n",
    "train_mask = torch.zeros(g.num_nodes, dtype=torch.bool) \n",
    "val_mask = torch.zeros(g.num_nodes, dtype=torch.bool) \n",
    "test_mask = torch.zeros(g.num_nodes, dtype=torch.bool) \n",
    "train_mask[train_idx] = True \n",
    "val_mask[valid_idx] = True \n",
    "test_mask[test_idx] = True \n",
    "\n",
    "train_mask.float().mean(), \\\n",
    "    val_mask.float().mean(), \\\n",
    "    test_mask.float().mean()"
   ]
  },
  {
   "cell_type": "code",
   "execution_count": 7,
   "metadata": {},
   "outputs": [],
   "source": [
    "import pickle \n",
    "\n",
    "with open(os.path.expanduser('~/dataset/OGB/ogbn-arxiv/processed/g.dict.pkl'), 'wb') as fp: \n",
    "    pickle.dump(\n",
    "        dict(\n",
    "            node_feat = g.x, \n",
    "            node_year = g.node_year.squeeze(), \n",
    "            node_label = g.y.squeeze(), \n",
    "            edge_index = g.edge_index, \n",
    "            node_train_mask = train_mask,\n",
    "            node_val_mask = val_mask,\n",
    "            node_test_mask = test_mask,\n",
    "        ), \n",
    "        fp, \n",
    "    )"
   ]
  }
 ],
 "metadata": {
  "kernelspec": {
   "display_name": "base",
   "language": "python",
   "name": "python3"
  },
  "language_info": {
   "codemirror_mode": {
    "name": "ipython",
    "version": 3
   },
   "file_extension": ".py",
   "mimetype": "text/x-python",
   "name": "python",
   "nbconvert_exporter": "python",
   "pygments_lexer": "ipython3",
   "version": "3.9.13"
  },
  "orig_nbformat": 4
 },
 "nbformat": 4,
 "nbformat_minor": 2
}
