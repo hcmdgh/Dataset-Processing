{
 "cells": [
  {
   "cell_type": "code",
   "execution_count": 1,
   "metadata": {},
   "outputs": [],
   "source": [
    "import torch \n",
    "import numpy as np \n",
    "import torch_geometric \n",
    "import ogb \n",
    "from ogb.nodeproppred import NodePropPredDataset\n",
    "import os \n",
    "\n",
    "dataset = NodePropPredDataset(name='ogbn-mag', root=os.path.expanduser('~/dataset/OGB/ogbn-mag/raw'))\n",
    "\n",
    "split_idx = dataset.get_idx_split()\n",
    "train_idx, valid_idx, test_idx = split_idx[\"train\"], split_idx[\"valid\"], split_idx[\"test\"]\n",
    "graph, label = dataset[0] "
   ]
  },
  {
   "cell_type": "code",
   "execution_count": 2,
   "metadata": {},
   "outputs": [
    {
     "data": {
      "text/plain": [
       "{'author': 1134649, 'institution': 8740, 'paper': 736389, 'field': 59965}"
      ]
     },
     "execution_count": 2,
     "metadata": {},
     "output_type": "execute_result"
    }
   ],
   "source": [
    "num_nodes_dict = graph['num_nodes_dict'] \n",
    "num_nodes_dict['field'] = num_nodes_dict.pop('field_of_study') \n",
    "\n",
    "num_nodes_dict "
   ]
  },
  {
   "cell_type": "code",
   "execution_count": 3,
   "metadata": {},
   "outputs": [
    {
     "data": {
      "text/plain": [
       "dict_keys([('author', 'affiliated_with', 'institution'), ('author', 'writes', 'paper'), ('paper', 'cites', 'paper'), ('paper', 'has_topic', 'field_of_study')])"
      ]
     },
     "execution_count": 3,
     "metadata": {},
     "output_type": "execute_result"
    }
   ],
   "source": [
    "edge_index_dict = graph['edge_index_dict'] \n",
    "\n",
    "edge_index_dict.keys() "
   ]
  },
  {
   "cell_type": "code",
   "execution_count": 4,
   "metadata": {},
   "outputs": [
    {
     "data": {
      "text/plain": [
       "{('author',\n",
       "  'AI',\n",
       "  'institution'): tensor([[      0,       1,       2,  ..., 1134645, 1134647, 1134648],\n",
       "         [    845,     996,    3197,  ...,    5189,    4668,    4668]]),\n",
       " ('author',\n",
       "  'AP',\n",
       "  'paper'): tensor([[      0,       0,       0,  ..., 1134647, 1134648, 1134648],\n",
       "         [  19703,  289285,  311768,  ...,  657395,  671118,  719594]]),\n",
       " ('paper',\n",
       "  'PP',\n",
       "  'paper'): tensor([[     0,      0,      0,  ..., 736388, 736388, 736388],\n",
       "         [    88,  27449, 121051,  ..., 421711, 427339, 439864]]),\n",
       " ('paper',\n",
       "  'PF',\n",
       "  'field'): tensor([[     0,      0,      0,  ..., 736388, 736388, 736388],\n",
       "         [   145,   2215,   3205,  ...,  21458,  22283,  31934]])}"
      ]
     },
     "execution_count": 4,
     "metadata": {},
     "output_type": "execute_result"
    }
   ],
   "source": [
    "edge_index_dict[('author', 'AI', 'institution')] = torch.tensor(edge_index_dict.pop(('author', 'affiliated_with', 'institution')), dtype=torch.int64) \n",
    "edge_index_dict[('author', 'AP', 'paper')] = torch.tensor(edge_index_dict.pop(('author', 'writes', 'paper')), dtype=torch.int64) \n",
    "edge_index_dict[('paper', 'PP', 'paper')] = torch.tensor(edge_index_dict.pop(('paper', 'cites', 'paper')), dtype=torch.int64) \n",
    "edge_index_dict[('paper', 'PF', 'field')] = torch.tensor(edge_index_dict.pop(('paper', 'has_topic', 'field_of_study')), dtype=torch.int64) \n",
    "\n",
    "edge_index_dict"
   ]
  },
  {
   "cell_type": "code",
   "execution_count": 5,
   "metadata": {},
   "outputs": [
    {
     "data": {
      "text/plain": [
       "torch.Size([736389, 128])"
      ]
     },
     "execution_count": 5,
     "metadata": {},
     "output_type": "execute_result"
    }
   ],
   "source": [
    "paper_feat = torch.tensor(graph['node_feat_dict']['paper'], dtype=torch.float32) \n",
    "\n",
    "paper_feat.shape "
   ]
  },
  {
   "cell_type": "code",
   "execution_count": 6,
   "metadata": {},
   "outputs": [
    {
     "data": {
      "text/plain": [
       "torch.Size([736389])"
      ]
     },
     "execution_count": 6,
     "metadata": {},
     "output_type": "execute_result"
    }
   ],
   "source": [
    "paper_label = torch.tensor(label['paper'].reshape(-1), dtype=torch.int64) \n",
    "\n",
    "paper_label.shape "
   ]
  },
  {
   "cell_type": "code",
   "execution_count": 7,
   "metadata": {},
   "outputs": [
    {
     "data": {
      "text/plain": [
       "(tensor(629571), tensor(64879), tensor(41939))"
      ]
     },
     "execution_count": 7,
     "metadata": {},
     "output_type": "execute_result"
    }
   ],
   "source": [
    "train_mask = torch.zeros(len(paper_label), dtype=torch.bool)\n",
    "val_mask = torch.zeros(len(paper_label), dtype=torch.bool)\n",
    "test_mask = torch.zeros(len(paper_label), dtype=torch.bool)\n",
    "train_mask[train_idx['paper']] = True \n",
    "val_mask[valid_idx['paper']] = True \n",
    "test_mask[test_idx['paper']] = True \n",
    "\n",
    "train_mask.sum(), val_mask.sum(), test_mask.sum() "
   ]
  },
  {
   "cell_type": "code",
   "execution_count": 8,
   "metadata": {},
   "outputs": [
    {
     "data": {
      "text/plain": [
       "torch.Size([736389])"
      ]
     },
     "execution_count": 8,
     "metadata": {},
     "output_type": "execute_result"
    }
   ],
   "source": [
    "paper_year = torch.tensor(graph['node_year']['paper'].reshape(-1), dtype=torch.int64) \n",
    "\n",
    "paper_year.shape "
   ]
  },
  {
   "cell_type": "code",
   "execution_count": 9,
   "metadata": {},
   "outputs": [],
   "source": [
    "import pickle  \n",
    "\n",
    "with open(os.path.expanduser('~/dataset/OGB/ogbn-mag/processed/hg.dict.pkl'), 'wb') as fp: \n",
    "    pickle.dump(\n",
    "        dict(\n",
    "            num_nodes_dict = num_nodes_dict, \n",
    "            edge_index_dict = edge_index_dict, \n",
    "            paper_feat = paper_feat,\n",
    "            paper_year = paper_year,  \n",
    "            paper_label = paper_label, \n",
    "            paper_train_mask = train_mask,\n",
    "            paper_val_mask = val_mask,\n",
    "            paper_test_mask = test_mask,\n",
    "        ), \n",
    "        fp, \n",
    "    )"
   ]
  }
 ],
 "metadata": {
  "kernelspec": {
   "display_name": "base",
   "language": "python",
   "name": "python3"
  },
  "language_info": {
   "codemirror_mode": {
    "name": "ipython",
    "version": 3
   },
   "file_extension": ".py",
   "mimetype": "text/x-python",
   "name": "python",
   "nbconvert_exporter": "python",
   "pygments_lexer": "ipython3",
   "version": "3.9.13"
  },
  "orig_nbformat": 4
 },
 "nbformat": 4,
 "nbformat_minor": 2
}
