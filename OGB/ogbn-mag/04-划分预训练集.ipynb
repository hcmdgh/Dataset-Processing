{
 "cells": [
  {
   "cell_type": "code",
   "execution_count": 4,
   "metadata": {},
   "outputs": [
    {
     "data": {
      "text/plain": [
       "(tensor(0.8549), tensor(0.0881), tensor(0.0570))"
      ]
     },
     "execution_count": 4,
     "metadata": {},
     "output_type": "execute_result"
    }
   ],
   "source": [
    "import torch \n",
    "import pickle \n",
    "import os \n",
    "\n",
    "with open(os.path.expanduser('~/dataset/OGB/ogbn-mag/processed/hg_undirected.dict.pkl'), 'rb') as fp: \n",
    "    graph_info_dict = pickle.load(fp) \n",
    "    \n",
    "paper_year = graph_info_dict['paper_year']\n",
    "paper_train_mask = graph_info_dict['paper_train_mask']\n",
    "paper_val_mask = graph_info_dict['paper_val_mask']\n",
    "paper_test_mask = graph_info_dict['paper_test_mask'] \n",
    "\n",
    "paper_train_mask.float().mean(), \\\n",
    "    paper_val_mask.float().mean(), \\\n",
    "    paper_test_mask.float().mean()"
   ]
  },
  {
   "cell_type": "code",
   "execution_count": 5,
   "metadata": {},
   "outputs": [
    {
     "data": {
      "text/plain": [
       "(tensor(0.5000), tensor(0.4300), tensor(0.0350), tensor(0.0350))"
      ]
     },
     "execution_count": 5,
     "metadata": {},
     "output_type": "execute_result"
    }
   ],
   "source": [
    "num_paper_nodes = len(paper_year) \n",
    "argsort = torch.argsort(paper_year) \n",
    "\n",
    "paper_pretrain_mask = torch.zeros(num_paper_nodes, dtype=torch.bool)\n",
    "paper_train_mask = torch.zeros(num_paper_nodes, dtype=torch.bool)\n",
    "paper_val_mask = torch.zeros(num_paper_nodes, dtype=torch.bool)\n",
    "paper_test_mask = torch.zeros(num_paper_nodes, dtype=torch.bool)\n",
    "\n",
    "pretrain_cnt = int(num_paper_nodes * 0.5)\n",
    "train_cnt = int(num_paper_nodes * 0.5 * 0.86)\n",
    "val_cnt = int(num_paper_nodes * 0.5 * 0.07) \n",
    "\n",
    "paper_pretrain_mask[argsort[:pretrain_cnt]] = True \n",
    "paper_train_mask[argsort[pretrain_cnt: pretrain_cnt + train_cnt]] = True \n",
    "paper_val_mask[argsort[pretrain_cnt + train_cnt: pretrain_cnt + train_cnt + val_cnt]] = True \n",
    "paper_test_mask[argsort[pretrain_cnt + train_cnt + val_cnt:]] = True  \n",
    "\n",
    "paper_pretrain_mask.float().mean(), \\\n",
    "    paper_train_mask.float().mean(), \\\n",
    "    paper_val_mask.float().mean(), \\\n",
    "    paper_test_mask.float().mean()"
   ]
  },
  {
   "cell_type": "code",
   "execution_count": 6,
   "metadata": {},
   "outputs": [],
   "source": [
    "graph_info_dict['paper_pretrain_mask'] = paper_pretrain_mask\n",
    "graph_info_dict['paper_train_mask'] = paper_train_mask\n",
    "graph_info_dict['paper_val_mask'] = paper_val_mask\n",
    "graph_info_dict['paper_test_mask'] = paper_test_mask\n",
    "\n",
    "with open(os.path.expanduser('~/dataset/OGB/ogbn-mag/processed/hg_pretrain.dict.pkl'), 'wb') as fp: \n",
    "    pickle.dump(graph_info_dict, fp) "
   ]
  }
 ],
 "metadata": {
  "kernelspec": {
   "display_name": "base",
   "language": "python",
   "name": "python3"
  },
  "language_info": {
   "codemirror_mode": {
    "name": "ipython",
    "version": 3
   },
   "file_extension": ".py",
   "mimetype": "text/x-python",
   "name": "python",
   "nbconvert_exporter": "python",
   "pygments_lexer": "ipython3",
   "version": "3.9.13"
  },
  "orig_nbformat": 4
 },
 "nbformat": 4,
 "nbformat_minor": 2
}
