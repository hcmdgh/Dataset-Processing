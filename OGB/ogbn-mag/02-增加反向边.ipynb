{
 "cells": [
  {
   "cell_type": "code",
   "execution_count": 1,
   "metadata": {},
   "outputs": [
    {
     "data": {
      "text/plain": [
       "{'num_nodes_dict': {'author': 1134649,\n",
       "  'institution': 8740,\n",
       "  'paper': 736389,\n",
       "  'field': 59965},\n",
       " 'edge_index_dict': {('author',\n",
       "   'AI',\n",
       "   'institution'): tensor([[      0,       1,       2,  ..., 1134645, 1134647, 1134648],\n",
       "          [    845,     996,    3197,  ...,    5189,    4668,    4668]]),\n",
       "  ('author',\n",
       "   'AP',\n",
       "   'paper'): tensor([[      0,       0,       0,  ..., 1134647, 1134648, 1134648],\n",
       "          [  19703,  289285,  311768,  ...,  657395,  671118,  719594]]),\n",
       "  ('paper',\n",
       "   'PP',\n",
       "   'paper'): tensor([[     0,      0,      0,  ..., 736388, 736388, 736388],\n",
       "          [    88,  27449, 121051,  ..., 421711, 427339, 439864]]),\n",
       "  ('paper',\n",
       "   'PF',\n",
       "   'field'): tensor([[     0,      0,      0,  ..., 736388, 736388, 736388],\n",
       "          [   145,   2215,   3205,  ...,  21458,  22283,  31934]])},\n",
       " 'paper_feat': tensor([[-0.0954,  0.0408, -0.2109,  ...,  0.0616, -0.0277, -0.1338],\n",
       "         [-0.1510, -0.1073, -0.2220,  ...,  0.3458, -0.0277, -0.2185],\n",
       "         [-0.1148, -0.1760, -0.2606,  ...,  0.1731, -0.1564, -0.2780],\n",
       "         ...,\n",
       "         [ 0.0228, -0.0865,  0.0981,  ..., -0.0547, -0.2077, -0.2305],\n",
       "         [-0.2891, -0.2029, -0.1525,  ...,  0.1042,  0.2041, -0.3528],\n",
       "         [-0.0890, -0.0348, -0.2642,  ...,  0.2601, -0.0875, -0.5171]]),\n",
       " 'paper_year': tensor([2015, 2012, 2012,  ..., 2016, 2017, 2014]),\n",
       " 'paper_label': tensor([246, 131, 189,  ..., 266, 289,   1]),\n",
       " 'paper_train_mask': tensor([True, True, True,  ..., True, True, True]),\n",
       " 'paper_val_mask': tensor([False, False, False,  ..., False, False, False]),\n",
       " 'paper_test_mask': tensor([False, False, False,  ..., False, False, False])}"
      ]
     },
     "execution_count": 1,
     "metadata": {},
     "output_type": "execute_result"
    }
   ],
   "source": [
    "import os \n",
    "import pickle \n",
    "import torch \n",
    "import numpy as np \n",
    "\n",
    "with open(os.path.expanduser('~/dataset/OGB/ogbn-mag/processed/hg.dict.pkl'), 'rb') as fp: \n",
    "    graph_info = pickle.load(fp) \n",
    "    \n",
    "graph_info "
   ]
  },
  {
   "cell_type": "code",
   "execution_count": 2,
   "metadata": {},
   "outputs": [],
   "source": [
    "edge_index_dict = graph_info['edge_index_dict']"
   ]
  },
  {
   "cell_type": "code",
   "execution_count": 3,
   "metadata": {},
   "outputs": [],
   "source": [
    "edge_index_dict[('institution', 'IA', 'author')] = torch.flip(edge_index_dict[('author', 'AI', 'institution')], dims=[0]) \n",
    "edge_index_dict[('paper', 'PA', 'author')] = torch.flip(edge_index_dict[('author', 'AP', 'paper')], dims=[0]) \n",
    "edge_index_dict[('field', 'FP', 'paper')] = torch.flip(edge_index_dict[('paper', 'PF', 'field')], dims=[0]) "
   ]
  },
  {
   "cell_type": "code",
   "execution_count": 4,
   "metadata": {},
   "outputs": [],
   "source": [
    "PP_edge_index = edge_index_dict[('paper', 'PP', 'paper')] \n",
    "PP_edge_index = torch.cat([PP_edge_index, torch.flip(PP_edge_index, dims=[0])], dim=-1)  \n",
    "PP_edge_index = torch.unique(PP_edge_index, dim=-1)\n",
    "\n",
    "edge_index_dict[('paper', 'PP', 'paper')] = PP_edge_index \n",
    "\n",
    "with open(os.path.expanduser('~/dataset/OGB/ogbn-mag/processed/hg_undirected.dict.pkl'), 'wb') as fp: \n",
    "    pickle.dump(graph_info, fp) "
   ]
  }
 ],
 "metadata": {
  "kernelspec": {
   "display_name": "base",
   "language": "python",
   "name": "python3"
  },
  "language_info": {
   "codemirror_mode": {
    "name": "ipython",
    "version": 3
   },
   "file_extension": ".py",
   "mimetype": "text/x-python",
   "name": "python",
   "nbconvert_exporter": "python",
   "pygments_lexer": "ipython3",
   "version": "3.9.13"
  },
  "orig_nbformat": 4
 },
 "nbformat": 4,
 "nbformat_minor": 2
}
