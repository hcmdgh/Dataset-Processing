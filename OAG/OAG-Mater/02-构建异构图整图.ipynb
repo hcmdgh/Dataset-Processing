{
 "cells": [
  {
   "cell_type": "code",
   "execution_count": 9,
   "metadata": {},
   "outputs": [],
   "source": [
    "import pickle \n",
    "import os \n",
    "import torch \n",
    "from collections import Counter \n",
    "from tqdm import tqdm \n",
    "\n",
    "with open(os.path.expanduser(\"~/dataset/OAG/raw/PT-HGNN/graph_Materials_science.dict.pkl\"), \"rb\") as fp:\n",
    "    graph_info = pickle.load(fp) \n",
    "    \n",
    "edge_list = graph_info['edge_list'] \n",
    "node_feature = graph_info['node_feature']\n",
    "node_forward = graph_info['node_forward'] \n",
    "times = graph_info['times']"
   ]
  },
  {
   "cell_type": "code",
   "execution_count": 10,
   "metadata": {},
   "outputs": [
    {
     "data": {
      "text/plain": [
       "183650"
      ]
     },
     "execution_count": 10,
     "metadata": {},
     "output_type": "execute_result"
    }
   ],
   "source": [
    "num_paper_nodes = len(node_feature[\"paper\"])\n",
    "\n",
    "num_paper_nodes"
   ]
  },
  {
   "cell_type": "code",
   "execution_count": 11,
   "metadata": {},
   "outputs": [
    {
     "name": "stderr",
     "output_type": "stream",
     "text": [
      "100%|██████████| 6/6 [00:31<00:00,  5.27s/it]\n"
     ]
    },
    {
     "data": {
      "text/plain": [
       "(tensor(183650), tensor(1.))"
      ]
     },
     "execution_count": 11,
     "metadata": {},
     "output_type": "execute_result"
    }
   ],
   "source": [
    "paper_year_vec = torch.zeros(num_paper_nodes, dtype=torch.int64)\n",
    "\n",
    "for etype in tqdm(graph_info['edge_list']['field']['paper']):\n",
    "    for field_id in graph_info['edge_list']['field']['paper'][etype]: \n",
    "        for paper_id in graph_info['edge_list']['field']['paper'][etype][field_id]: \n",
    "            paper_year = graph_info['edge_list']['field']['paper'][etype][field_id][paper_id] \n",
    "\n",
    "            if paper_year_vec[paper_id] == 0: \n",
    "                paper_year_vec[paper_id] = paper_year \n",
    "            else: \n",
    "                assert paper_year_vec[paper_id] == paper_year \n",
    "                \n",
    "(paper_year_vec > 0).sum(), (paper_year_vec > 0).float().mean() "
   ]
  },
  {
   "cell_type": "code",
   "execution_count": 12,
   "metadata": {},
   "outputs": [
    {
     "data": {
      "text/plain": [
       "([(1924, 1),\n",
       "  (1929, 1),\n",
       "  (1930, 1),\n",
       "  (1931, 1),\n",
       "  (1938, 2),\n",
       "  (1945, 2),\n",
       "  (1947, 2),\n",
       "  (1949, 2),\n",
       "  (1950, 1),\n",
       "  (1951, 4)],\n",
       " [(2010, 7535),\n",
       "  (2011, 9128),\n",
       "  (2012, 10637),\n",
       "  (2013, 13292),\n",
       "  (2014, 15848),\n",
       "  (2015, 20882),\n",
       "  (2016, 26347),\n",
       "  (2017, 23859),\n",
       "  (2018, 4372),\n",
       "  (2019, 6)])"
      ]
     },
     "execution_count": 12,
     "metadata": {},
     "output_type": "execute_result"
    }
   ],
   "source": [
    "counter_result = sorted(Counter(paper_year_vec.tolist()).items()) \n",
    "\n",
    "counter_result[:10], counter_result[-10:]"
   ]
  },
  {
   "cell_type": "code",
   "execution_count": 13,
   "metadata": {},
   "outputs": [
    {
     "name": "stderr",
     "output_type": "stream",
     "text": [
      "100%|██████████| 5/5 [00:03<00:00,  1.47it/s]\n"
     ]
    },
    {
     "data": {
      "text/plain": [
       "dict_keys([('venue', 'PV_Journal', 'paper'), ('venue', 'PV_Patent', 'paper'), ('venue', 'PV_Conference', 'paper'), ('paper', 'rev_PV_Journal', 'venue'), ('paper', 'rev_PV_Patent', 'venue'), ('paper', 'rev_PV_Conference', 'venue'), ('paper', 'PP_cite', 'paper'), ('paper', 'rev_PP_cite', 'paper'), ('paper', 'rev_PF_in_L2', 'field'), ('paper', 'rev_PF_in_L0', 'field'), ('paper', 'rev_PF_in_L3', 'field'), ('paper', 'rev_PF_in_L1', 'field'), ('paper', 'rev_PF_in_L5', 'field'), ('paper', 'rev_PF_in_L4', 'field'), ('paper', 'AP_write_first', 'author'), ('paper', 'AP_write_other', 'author'), ('paper', 'AP_write_last', 'author'), ('field', 'FF_in', 'field'), ('field', 'rev_FF_in', 'field'), ('field', 'PF_in_L2', 'paper'), ('field', 'PF_in_L0', 'paper'), ('field', 'PF_in_L3', 'paper'), ('field', 'PF_in_L1', 'paper'), ('field', 'PF_in_L5', 'paper'), ('field', 'PF_in_L4', 'paper'), ('affiliation', 'in', 'author'), ('author', 'rev_in', 'affiliation'), ('author', 'rev_AP_write_first', 'paper'), ('author', 'rev_AP_write_other', 'paper'), ('author', 'rev_AP_write_last', 'paper')])"
      ]
     },
     "execution_count": 13,
     "metadata": {},
     "output_type": "execute_result"
    }
   ],
   "source": [
    "edge_index_dict = dict() \n",
    "\n",
    "for src_ntype in tqdm(graph_info['edge_list']): \n",
    "    for dest_ntype in graph_info['edge_list'][src_ntype]:\n",
    "        for etype in graph_info['edge_list'][src_ntype][dest_ntype]:\n",
    "            edge_list = [] \n",
    "            \n",
    "            for src_nid in graph_info['edge_list'][src_ntype][dest_ntype][etype]: \n",
    "                for dest_nid in graph_info['edge_list'][src_ntype][dest_ntype][etype][src_nid]: \n",
    "                    edge_list.append((src_nid, dest_nid))\n",
    "\n",
    "            edge_index = torch.tensor(edge_list, dtype=torch.int64).T \n",
    "            \n",
    "            edge_index_dict[(src_ntype, etype, dest_ntype)] = edge_index \n",
    "\n",
    "edge_index_dict.keys() "
   ]
  },
  {
   "cell_type": "code",
   "execution_count": 14,
   "metadata": {},
   "outputs": [
    {
     "data": {
      "text/plain": [
       "dict_keys([('venue', 'VP_Journal', 'paper'), ('venue', 'VP_Patent', 'paper'), ('venue', 'VP_Conference', 'paper'), ('paper', 'PV_Journal', 'venue'), ('paper', 'PV_Patent', 'venue'), ('paper', 'PV_Conference', 'venue'), ('paper', 'PP_cite', 'paper'), ('paper', 'PF_L2', 'field'), ('paper', 'PF_L0', 'field'), ('paper', 'PF_L3', 'field'), ('paper', 'PF_L1', 'field'), ('paper', 'PF_L5', 'field'), ('paper', 'PF_L4', 'field'), ('paper', 'PA_first', 'author'), ('paper', 'PA_other', 'author'), ('paper', 'PA_last', 'author'), ('field', 'FF_in', 'field'), ('field', 'FP_L2', 'paper'), ('field', 'FP_L0', 'paper'), ('field', 'FP_L3', 'paper'), ('field', 'FP_L1', 'paper'), ('field', 'FP_L5', 'paper'), ('field', 'FP_L4', 'paper'), ('institution', 'in', 'author'), ('author', 'in', 'institution'), ('author', 'AP_first', 'paper'), ('author', 'AP_other', 'paper'), ('author', 'AP_last', 'paper')])"
      ]
     },
     "execution_count": 14,
     "metadata": {},
     "output_type": "execute_result"
    }
   ],
   "source": [
    "_edge_index_dict = dict() \n",
    "\n",
    "for (src_ntype, etype, dest_ntype), edge_index in edge_index_dict.items(): \n",
    "    if src_ntype == 'affiliation': \n",
    "        src_ntype = 'institution' \n",
    "    if dest_ntype == 'affiliation': \n",
    "        dest_ntype = 'institution'    \n",
    "    \n",
    "    if etype[:2].isupper(): \n",
    "        etype = etype[1] + etype[0] + etype[2:] \n",
    "    elif etype[:3] == 'rev': \n",
    "        etype = etype[4:]\n",
    "        \n",
    "    etype = etype.replace('_in_', '_')\n",
    "    etype = etype.replace('_write_', '_')\n",
    "        \n",
    "    _edge_index_dict[(src_ntype, etype, dest_ntype)] = edge_index \n",
    "    \n",
    "edge_index_dict = _edge_index_dict \n",
    "\n",
    "edge_index_dict.keys() "
   ]
  },
  {
   "cell_type": "code",
   "execution_count": 15,
   "metadata": {},
   "outputs": [
    {
     "data": {
      "text/plain": [
       "{('venue', 'VP_Journal', 'paper'): torch.Size([2, 183418]),\n",
       " ('venue', 'VP_Patent', 'paper'): torch.Size([2, 58]),\n",
       " ('venue', 'VP_Conference', 'paper'): torch.Size([2, 174]),\n",
       " ('paper', 'PV_Journal', 'venue'): torch.Size([2, 183418]),\n",
       " ('paper', 'PV_Patent', 'venue'): torch.Size([2, 58]),\n",
       " ('paper', 'PV_Conference', 'venue'): torch.Size([2, 174]),\n",
       " ('paper', 'PF_L2', 'field'): torch.Size([2, 876410]),\n",
       " ('paper', 'PF_L0', 'field'): torch.Size([2, 183663]),\n",
       " ('paper', 'PF_L3', 'field'): torch.Size([2, 353905]),\n",
       " ('paper', 'PF_L1', 'field'): torch.Size([2, 301358]),\n",
       " ('paper', 'PF_L5', 'field'): torch.Size([2, 9701]),\n",
       " ('paper', 'PF_L4', 'field'): torch.Size([2, 69340]),\n",
       " ('paper', 'PA_first', 'author'): torch.Size([2, 161033]),\n",
       " ('paper', 'PA_other', 'author'): torch.Size([2, 468640]),\n",
       " ('paper', 'PA_last', 'author'): torch.Size([2, 167191]),\n",
       " ('field', 'FF_in', 'field'): torch.Size([2, 111042]),\n",
       " ('field', 'FP_L2', 'paper'): torch.Size([2, 876410]),\n",
       " ('field', 'FP_L0', 'paper'): torch.Size([2, 183663]),\n",
       " ('field', 'FP_L3', 'paper'): torch.Size([2, 353905]),\n",
       " ('field', 'FP_L1', 'paper'): torch.Size([2, 301358]),\n",
       " ('field', 'FP_L5', 'paper'): torch.Size([2, 9701]),\n",
       " ('field', 'FP_L4', 'paper'): torch.Size([2, 69340]),\n",
       " ('author', 'AP_first', 'paper'): torch.Size([2, 161033]),\n",
       " ('author', 'AP_other', 'paper'): torch.Size([2, 468640]),\n",
       " ('author', 'AP_last', 'paper'): torch.Size([2, 167191]),\n",
       " ('institution', 'IA', 'author'): torch.Size([2, 356177]),\n",
       " ('author', 'AI', 'institution'): torch.Size([2, 356177]),\n",
       " ('paper', 'PP', 'paper'): torch.Size([2, 2551018])}"
      ]
     },
     "execution_count": 15,
     "metadata": {},
     "output_type": "execute_result"
    }
   ],
   "source": [
    "edge_index_dict[('institution', 'IA', 'author')] = edge_index_dict.pop(('institution', 'in', 'author'))\n",
    "edge_index_dict[('author', 'AI', 'institution')] = edge_index_dict.pop(('author', 'in', 'institution'))\n",
    "\n",
    "PP_edge_index = edge_index_dict.pop(('paper', 'PP_cite', 'paper')) \n",
    "PP_edge_index = torch.cat([PP_edge_index, torch.flip(PP_edge_index, dims=[0])], dim=-1) \n",
    "PP_edge_index = torch.unique(PP_edge_index, dim=-1) \n",
    "edge_index_dict[('paper', 'PP', 'paper')] = PP_edge_index \n",
    "\n",
    "{ k: v.shape for k, v in edge_index_dict.items() }"
   ]
  },
  {
   "cell_type": "code",
   "execution_count": 16,
   "metadata": {},
   "outputs": [],
   "source": [
    "PV_edge_index = torch.cat([\n",
    "    edge_index_dict[('paper', 'PV_Conference', 'venue')], \n",
    "    edge_index_dict[('paper', 'PV_Journal', 'venue')], \n",
    "    edge_index_dict[('paper', 'PV_Patent', 'venue')], \n",
    "], dim=-1)\n",
    "\n",
    "PV_edge_index = torch.unique(PV_edge_index, dim=-1) \n",
    "\n",
    "VP_edge_index = torch.flip(PV_edge_index, dims=[0]) \n",
    "\n",
    "edge_index_dict[('paper', 'PV', 'venue')] = PV_edge_index \n",
    "edge_index_dict[('venue', 'VP', 'paper')] = VP_edge_index "
   ]
  },
  {
   "cell_type": "code",
   "execution_count": 17,
   "metadata": {},
   "outputs": [],
   "source": [
    "PF_edge_index = torch.cat([\n",
    "    edge_index_dict[('paper', 'PF_L5', 'field')], \n",
    "    edge_index_dict[('paper', 'PF_L4', 'field')], \n",
    "    edge_index_dict[('paper', 'PF_L3', 'field')], \n",
    "    edge_index_dict[('paper', 'PF_L2', 'field')], \n",
    "], dim=-1)\n",
    "\n",
    "PF_edge_index = torch.unique(PF_edge_index, dim=-1) \n",
    "\n",
    "FP_edge_index = torch.flip(PF_edge_index, dims=[0]) \n",
    "\n",
    "edge_index_dict[('paper', 'PF', 'field')] = PF_edge_index \n",
    "edge_index_dict[('field', 'FP', 'paper')] = FP_edge_index "
   ]
  },
  {
   "cell_type": "code",
   "execution_count": 18,
   "metadata": {},
   "outputs": [
    {
     "data": {
      "text/plain": [
       "{('venue', 'VP_Journal', 'paper'): torch.Size([2, 183418]),\n",
       " ('venue', 'VP_Patent', 'paper'): torch.Size([2, 58]),\n",
       " ('venue', 'VP_Conference', 'paper'): torch.Size([2, 174]),\n",
       " ('paper', 'PV_Journal', 'venue'): torch.Size([2, 183418]),\n",
       " ('paper', 'PV_Patent', 'venue'): torch.Size([2, 58]),\n",
       " ('paper', 'PV_Conference', 'venue'): torch.Size([2, 174]),\n",
       " ('paper', 'PF_L2', 'field'): torch.Size([2, 876410]),\n",
       " ('paper', 'PF_L0', 'field'): torch.Size([2, 183663]),\n",
       " ('paper', 'PF_L3', 'field'): torch.Size([2, 353905]),\n",
       " ('paper', 'PF_L1', 'field'): torch.Size([2, 301358]),\n",
       " ('paper', 'PF_L5', 'field'): torch.Size([2, 9701]),\n",
       " ('paper', 'PF_L4', 'field'): torch.Size([2, 69340]),\n",
       " ('paper', 'PA_first', 'author'): torch.Size([2, 161033]),\n",
       " ('paper', 'PA_other', 'author'): torch.Size([2, 468640]),\n",
       " ('paper', 'PA_last', 'author'): torch.Size([2, 167191]),\n",
       " ('field', 'FF_in', 'field'): torch.Size([2, 111042]),\n",
       " ('field', 'FP_L2', 'paper'): torch.Size([2, 876410]),\n",
       " ('field', 'FP_L0', 'paper'): torch.Size([2, 183663]),\n",
       " ('field', 'FP_L3', 'paper'): torch.Size([2, 353905]),\n",
       " ('field', 'FP_L1', 'paper'): torch.Size([2, 301358]),\n",
       " ('field', 'FP_L5', 'paper'): torch.Size([2, 9701]),\n",
       " ('field', 'FP_L4', 'paper'): torch.Size([2, 69340]),\n",
       " ('author', 'AP_first', 'paper'): torch.Size([2, 161033]),\n",
       " ('author', 'AP_other', 'paper'): torch.Size([2, 468640]),\n",
       " ('author', 'AP_last', 'paper'): torch.Size([2, 167191]),\n",
       " ('institution', 'IA', 'author'): torch.Size([2, 356177]),\n",
       " ('author', 'AI', 'institution'): torch.Size([2, 356177]),\n",
       " ('paper', 'PP', 'paper'): torch.Size([2, 2551018]),\n",
       " ('paper', 'PV', 'venue'): torch.Size([2, 183650]),\n",
       " ('venue', 'VP', 'paper'): torch.Size([2, 183650]),\n",
       " ('paper', 'PF', 'field'): torch.Size([2, 1309356]),\n",
       " ('field', 'FP', 'paper'): torch.Size([2, 1309356]),\n",
       " ('paper', 'PA', 'author'): torch.Size([2, 781240]),\n",
       " ('author', 'AP', 'paper'): torch.Size([2, 781240])}"
      ]
     },
     "execution_count": 18,
     "metadata": {},
     "output_type": "execute_result"
    }
   ],
   "source": [
    "PA_edge_index = torch.cat([\n",
    "    edge_index_dict[('paper', 'PA_last', 'author')], \n",
    "    edge_index_dict[('paper', 'PA_other', 'author')], \n",
    "    edge_index_dict[('paper', 'PA_first', 'author')], \n",
    "], dim=-1)\n",
    "\n",
    "PA_edge_index = torch.unique(PA_edge_index, dim=-1) \n",
    "\n",
    "AP_edge_index = torch.flip(PA_edge_index, dims=[0]) \n",
    "\n",
    "edge_index_dict[('paper', 'PA', 'author')] = PA_edge_index \n",
    "edge_index_dict[('author', 'AP', 'paper')] = AP_edge_index \n",
    "\n",
    "{ k: v.shape for k, v in edge_index_dict.items() }"
   ]
  },
  {
   "cell_type": "code",
   "execution_count": 19,
   "metadata": {},
   "outputs": [
    {
     "data": {
      "text/plain": [
       "{'author': 356177,\n",
       " 'field': 21088,\n",
       " 'institution': 5630,\n",
       " 'paper': 183650,\n",
       " 'venue': 1097}"
      ]
     },
     "execution_count": 19,
     "metadata": {},
     "output_type": "execute_result"
    }
   ],
   "source": [
    "import dgl \n",
    "\n",
    "hg = dgl.heterograph({k: tuple(v) for k, v in edge_index_dict.items()}) \n",
    "num_nodes_dict = { ntype: hg.num_nodes(ntype) for ntype in hg.ntypes } \n",
    "\n",
    "num_nodes_dict "
   ]
  },
  {
   "cell_type": "code",
   "execution_count": 20,
   "metadata": {},
   "outputs": [
    {
     "data": {
      "text/plain": [
       "torch.Size([183650, 768])"
      ]
     },
     "execution_count": 20,
     "metadata": {},
     "output_type": "execute_result"
    }
   ],
   "source": [
    "paper_feat_mat = torch.tensor(list(node_feature['paper']['emb']), dtype=torch.float32) \n",
    "\n",
    "paper_feat_mat.shape "
   ]
  },
  {
   "cell_type": "code",
   "execution_count": 21,
   "metadata": {},
   "outputs": [],
   "source": [
    "with open(os.path.expanduser('~/dataset/OAG/OAG-Mater/hg_full.dict.pkl'), 'wb') as fp: \n",
    "    pickle.dump(\n",
    "        dict(\n",
    "            edge_index_dict = edge_index_dict, \n",
    "            num_nodes_dict = num_nodes_dict, \n",
    "            paper_feat = paper_feat_mat, \n",
    "            paper_year = paper_year_vec, \n",
    "        ), \n",
    "        fp, \n",
    "    )"
   ]
  }
 ],
 "metadata": {
  "kernelspec": {
   "display_name": "base",
   "language": "python",
   "name": "python3"
  },
  "language_info": {
   "codemirror_mode": {
    "name": "ipython",
    "version": 3
   },
   "file_extension": ".py",
   "mimetype": "text/x-python",
   "name": "python",
   "nbconvert_exporter": "python",
   "pygments_lexer": "ipython3",
   "version": "3.9.13"
  },
  "orig_nbformat": 4
 },
 "nbformat": 4,
 "nbformat_minor": 2
}
