{
 "cells": [
  {
   "cell_type": "code",
   "execution_count": 1,
   "metadata": {},
   "outputs": [],
   "source": [
    "import pickle \n",
    "import torch \n",
    "import os \n",
    "import sys \n",
    "sys.path.append('../../../submodule') \n",
    "import torch_util \n",
    "from torch_util.imports import * \n",
    "\n",
    "with open(os.path.expanduser('~/dataset/OAG/OAG-CS-Venue/hg_full.dict.pkl'), 'rb') as fp: \n",
    "    graph_info = pickle.load(fp)\n",
    "    \n",
    "edge_index_dict = graph_info['edge_index_dict']\n",
    "num_nodes_dict = graph_info['num_nodes_dict']"
   ]
  },
  {
   "cell_type": "code",
   "execution_count": 2,
   "metadata": {},
   "outputs": [
    {
     "data": {
      "text/plain": [
       "{('venue', 'VP_Conference', 'paper'): torch.Size([2, 296775]),\n",
       " ('venue', 'VP_Journal', 'paper'): torch.Size([2, 228062]),\n",
       " ('venue', 'VP_Repository', 'paper'): torch.Size([2, 19216]),\n",
       " ('venue', 'VP_Patent', 'paper'): torch.Size([2, 191]),\n",
       " ('paper', 'PV_Conference', 'venue'): torch.Size([2, 296775]),\n",
       " ('paper', 'PV_Journal', 'venue'): torch.Size([2, 228062]),\n",
       " ('paper', 'PV_Repository', 'venue'): torch.Size([2, 19216]),\n",
       " ('paper', 'PV_Patent', 'venue'): torch.Size([2, 191]),\n",
       " ('paper', 'PF_L0', 'field'): torch.Size([2, 544371]),\n",
       " ('paper', 'PF_L3', 'field'): torch.Size([2, 866423]),\n",
       " ('paper', 'PF_L1', 'field'): torch.Size([2, 1197205]),\n",
       " ('paper', 'PF_L2', 'field'): torch.Size([2, 2337525]),\n",
       " ('paper', 'PF_L5', 'field'): torch.Size([2, 202221]),\n",
       " ('paper', 'PF_L4', 'field'): torch.Size([2, 303541]),\n",
       " ('paper', 'PA_last', 'author'): torch.Size([2, 429392]),\n",
       " ('paper', 'PA_other', 'author'): torch.Size([2, 662167]),\n",
       " ('paper', 'PA_first', 'author'): torch.Size([2, 454913]),\n",
       " ('field', 'FF_in', 'field'): torch.Size([2, 262526]),\n",
       " ('field', 'FP_L0', 'paper'): torch.Size([2, 544371]),\n",
       " ('field', 'FP_L3', 'paper'): torch.Size([2, 866423]),\n",
       " ('field', 'FP_L1', 'paper'): torch.Size([2, 1197205]),\n",
       " ('field', 'FP_L2', 'paper'): torch.Size([2, 2337525]),\n",
       " ('field', 'FP_L5', 'paper'): torch.Size([2, 202221]),\n",
       " ('field', 'FP_L4', 'paper'): torch.Size([2, 303541]),\n",
       " ('author', 'AP_last', 'paper'): torch.Size([2, 429392]),\n",
       " ('author', 'AP_other', 'paper'): torch.Size([2, 662167]),\n",
       " ('author', 'AP_first', 'paper'): torch.Size([2, 454913]),\n",
       " ('institution', 'IA', 'author'): torch.Size([2, 612872]),\n",
       " ('author', 'AI', 'institution'): torch.Size([2, 612872]),\n",
       " ('paper', 'PP', 'paper'): torch.Size([2, 11577794])}"
      ]
     },
     "execution_count": 2,
     "metadata": {},
     "output_type": "execute_result"
    }
   ],
   "source": [
    "{ k: v.shape for k, v in edge_index_dict.items() }"
   ]
  },
  {
   "cell_type": "code",
   "execution_count": 3,
   "metadata": {},
   "outputs": [
    {
     "data": {
      "text/plain": [
       "{'author': 510189,\n",
       " 'field': 45717,\n",
       " 'institution': 9079,\n",
       " 'paper': 544244,\n",
       " 'venue': 6934}"
      ]
     },
     "execution_count": 3,
     "metadata": {},
     "output_type": "execute_result"
    }
   ],
   "source": [
    "num_nodes_dict "
   ]
  },
  {
   "cell_type": "code",
   "execution_count": 4,
   "metadata": {},
   "outputs": [
    {
     "data": {
      "application/vnd.jupyter.widget-view+json": {
       "model_id": "aecde9c1403e43e9a1030fd7441df70a",
       "version_major": 2,
       "version_minor": 0
      },
      "text/plain": [
       "  0%|          | 0/30 [00:00<?, ?it/s]"
      ]
     },
     "metadata": {},
     "output_type": "display_data"
    }
   ],
   "source": [
    "os.makedirs('./TransE_emb', exist_ok=True)\n",
    "\n",
    "def convert_hg_to_triplets(edge_index_dict: dict[EdgeType, EdgeIndex], \n",
    "                           num_nodes_dict: dict[NodeType, int],\n",
    "                           output_path: str): \n",
    "    nid_offset_dict: dict[NodeType, int] = dict() \n",
    "\n",
    "    nid_offset = 0 \n",
    "\n",
    "    for ntype, num_nodes in sorted(num_nodes_dict.items()):\n",
    "        nid_offset_dict[ntype] = nid_offset \n",
    "        nid_offset += num_nodes \n",
    "\n",
    "    with open(output_path, 'w', encoding='utf-8') as fp:\n",
    "        for etype, edge_index in tqdm(edge_index_dict.items()): \n",
    "            src_ntype, _, dest_ntype = etype \n",
    "            etype = '__'.join(etype) \n",
    "            src_nids, dest_nids = edge_index \n",
    "            \n",
    "            src_nids.add_(nid_offset_dict[src_ntype])\n",
    "            dest_nids.add_(nid_offset_dict[dest_ntype])\n",
    "\n",
    "            for src_nid, dest_nid in zip(src_nids.tolist(), dest_nids.tolist()): \n",
    "                print(f\"{src_nid}\\t{etype}\\t{dest_nid}\", file=fp)\n",
    "\n",
    "convert_hg_to_triplets(\n",
    "    edge_index_dict = edge_index_dict, \n",
    "    num_nodes_dict = num_nodes_dict,\n",
    "    output_path = './TransE_emb/triplets.tsv', \n",
    ")"
   ]
  }
 ],
 "metadata": {
  "kernelspec": {
   "display_name": "base",
   "language": "python",
   "name": "python3"
  },
  "language_info": {
   "codemirror_mode": {
    "name": "ipython",
    "version": 3
   },
   "file_extension": ".py",
   "mimetype": "text/x-python",
   "name": "python",
   "nbconvert_exporter": "python",
   "pygments_lexer": "ipython3",
   "version": "3.9.13"
  },
  "orig_nbformat": 4
 },
 "nbformat": 4,
 "nbformat_minor": 2
}
