{
 "cells": [
  {
   "cell_type": "code",
   "execution_count": 1,
   "metadata": {},
   "outputs": [
    {
     "data": {
      "text/plain": [
       "(370624, torch.Size([2, 1569093]), torch.Size([370624]))"
      ]
     },
     "execution_count": 1,
     "metadata": {},
     "output_type": "execute_result"
    }
   ],
   "source": [
    "import os \n",
    "import pickle \n",
    "import torch \n",
    "from tqdm.auto import tqdm \n",
    "\n",
    "with open(os.path.expanduser('~/dataset/OAG/OAG-Engin/hg_full.dict.pkl'), 'rb') as fp: \n",
    "    graph_info_dict = pickle.load(fp) \n",
    "    \n",
    "PF_edge_index = graph_info_dict['edge_index_dict'][('paper', 'PF_L2', 'field')]\n",
    "paper_year_vec = graph_info_dict['paper_year'] \n",
    "num_paper_nodes = len(paper_year_vec) \n",
    "\n",
    "num_paper_nodes, PF_edge_index.shape, paper_year_vec.shape "
   ]
  },
  {
   "cell_type": "code",
   "execution_count": 2,
   "metadata": {},
   "outputs": [
    {
     "data": {
      "text/plain": [
       "18116"
      ]
     },
     "execution_count": 2,
     "metadata": {},
     "output_type": "execute_result"
    }
   ],
   "source": [
    "field_id_map: dict[int, int] = dict() \n",
    "\n",
    "for P_nid, F_nid in zip(*PF_edge_index.tolist()): \n",
    "    if F_nid not in field_id_map: \n",
    "        field_id_map[F_nid] = len(field_id_map)\n",
    "        \n",
    "num_field_nodes = len(field_id_map) \n",
    "\n",
    "num_field_nodes"
   ]
  },
  {
   "cell_type": "code",
   "execution_count": 3,
   "metadata": {},
   "outputs": [
    {
     "data": {
      "application/vnd.jupyter.widget-view+json": {
       "model_id": "9c015ae20bc140888bb40de60481a16f",
       "version_major": 2,
       "version_minor": 0
      },
      "text/plain": [
       "0it [00:00, ?it/s]"
      ]
     },
     "metadata": {},
     "output_type": "display_data"
    },
    {
     "data": {
      "text/plain": [
       "(torch.Size([370624, 18116]),\n",
       " tensor(0.0002),\n",
       " tensor(221688),\n",
       " tensor(104424),\n",
       " tensor(28929),\n",
       " tensor(6051),\n",
       " tensor(0.5981),\n",
       " tensor(0.2818),\n",
       " tensor(0.0781),\n",
       " tensor(0.0163))"
      ]
     },
     "execution_count": 3,
     "metadata": {},
     "output_type": "execute_result"
    }
   ],
   "source": [
    "field_id_map: dict[int, int] = dict() \n",
    "\n",
    "for P_nid, F_nid in zip(*PF_edge_index.tolist()): \n",
    "    if F_nid not in field_id_map: \n",
    "        field_id_map[F_nid] = len(field_id_map)\n",
    "        \n",
    "paper_label_mat = torch.zeros(num_paper_nodes, num_field_nodes, dtype=torch.bool) \n",
    "paper_pretrain_mask = torch.zeros(num_paper_nodes, dtype=torch.bool)\n",
    "paper_train_mask = torch.zeros(num_paper_nodes, dtype=torch.bool)\n",
    "paper_val_mask = torch.zeros(num_paper_nodes, dtype=torch.bool)\n",
    "paper_test_mask = torch.zeros(num_paper_nodes, dtype=torch.bool)\n",
    "\n",
    "for P_nid, F_nid in tqdm(zip(*PF_edge_index.tolist())): \n",
    "    P_year = paper_year_vec[P_nid] \n",
    "    paper_label_mat[P_nid, field_id_map[F_nid]] = True \n",
    "    \n",
    "    if P_year < 2014:\n",
    "        paper_pretrain_mask[P_nid] = True \n",
    "    elif P_year >= 2014 and P_year <= 2016: \n",
    "        paper_train_mask[P_nid] = True \n",
    "    elif P_year == 2017: \n",
    "        paper_val_mask[P_nid] = True \n",
    "    else:\n",
    "        paper_test_mask[P_nid] = True \n",
    "\n",
    "paper_label_mat.shape, \\\n",
    "    paper_label_mat.float().mean(), \\\n",
    "    paper_pretrain_mask.sum(), \\\n",
    "    paper_train_mask.sum(), \\\n",
    "    paper_val_mask.sum(), \\\n",
    "    paper_test_mask.sum(), \\\n",
    "    paper_pretrain_mask.float().mean(), \\\n",
    "    paper_train_mask.float().mean(), \\\n",
    "    paper_val_mask.float().mean(), \\\n",
    "    paper_test_mask.float().mean()"
   ]
  },
  {
   "cell_type": "code",
   "execution_count": 4,
   "metadata": {},
   "outputs": [],
   "source": [
    "graph_info_dict['paper_label'] = paper_label_mat \n",
    "graph_info_dict['paper_pretrain_mask'] = paper_pretrain_mask \n",
    "graph_info_dict['paper_train_mask'] = paper_train_mask \n",
    "graph_info_dict['paper_val_mask'] = paper_val_mask \n",
    "graph_info_dict['paper_test_mask'] = paper_test_mask \n",
    "\n",
    "with open(os.path.expanduser('~/dataset/OAG/OAG-Engin/hg_field.dict.pkl'), 'wb') as fp: \n",
    "    pickle.dump(graph_info_dict, fp) "
   ]
  }
 ],
 "metadata": {
  "kernelspec": {
   "display_name": "base",
   "language": "python",
   "name": "python3"
  },
  "language_info": {
   "codemirror_mode": {
    "name": "ipython",
    "version": 3
   },
   "file_extension": ".py",
   "mimetype": "text/x-python",
   "name": "python",
   "nbconvert_exporter": "python",
   "pygments_lexer": "ipython3",
   "version": "3.9.13"
  },
  "orig_nbformat": 4
 },
 "nbformat": 4,
 "nbformat_minor": 2
}
