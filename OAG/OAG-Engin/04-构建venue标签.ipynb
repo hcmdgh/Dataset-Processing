{
 "cells": [
  {
   "cell_type": "code",
   "execution_count": 6,
   "metadata": {},
   "outputs": [
    {
     "data": {
      "text/plain": [
       "(torch.Size([2, 294050]), torch.Size([370624]))"
      ]
     },
     "execution_count": 6,
     "metadata": {},
     "output_type": "execute_result"
    }
   ],
   "source": [
    "import os \n",
    "import pickle \n",
    "import torch \n",
    "\n",
    "with open(os.path.expanduser('~/dataset/OAG/OAG-Engin/hg_full.dict.pkl'), 'rb') as fp: \n",
    "    graph_info_dict = pickle.load(fp) \n",
    "    \n",
    "PV_edge_index = graph_info_dict['edge_index_dict'][('paper', 'PV_Journal', 'venue')]\n",
    "paper_year_vec = graph_info_dict['paper_year'] \n",
    "num_paper_nodes = len(paper_year_vec) \n",
    "\n",
    "PV_edge_index.shape, paper_year_vec.shape "
   ]
  },
  {
   "cell_type": "code",
   "execution_count": 7,
   "metadata": {},
   "outputs": [
    {
     "data": {
      "text/plain": [
       "3957"
      ]
     },
     "execution_count": 7,
     "metadata": {},
     "output_type": "execute_result"
    }
   ],
   "source": [
    "venue_id_map: dict[int, int] = dict()\n",
    "\n",
    "for P_nid, V_nid in zip(*PV_edge_index.tolist()): \n",
    "    if V_nid not in venue_id_map: \n",
    "        venue_id_map[V_nid] = len(venue_id_map) \n",
    "        \n",
    "num_venue_nodes = len(venue_id_map) \n",
    "\n",
    "num_venue_nodes"
   ]
  },
  {
   "cell_type": "code",
   "execution_count": 8,
   "metadata": {},
   "outputs": [
    {
     "data": {
      "text/plain": [
       "tensor(0.7934)"
      ]
     },
     "execution_count": 8,
     "metadata": {},
     "output_type": "execute_result"
    }
   ],
   "source": [
    "paper_label_vec = torch.full(fill_value=-1, size=[num_paper_nodes], dtype=torch.int64) \n",
    "\n",
    "for P_nid, V_nid in zip(*PV_edge_index.tolist()): \n",
    "    paper_label_vec[P_nid] = venue_id_map[V_nid]\n",
    "    \n",
    "assert int(torch.max(paper_label_vec)) + 1 == num_venue_nodes \n",
    "\n",
    "(paper_label_vec > -1).float().mean() "
   ]
  },
  {
   "cell_type": "code",
   "execution_count": 9,
   "metadata": {},
   "outputs": [
    {
     "data": {
      "text/plain": [
       "(tensor(251915),\n",
       " tensor(84103),\n",
       " tensor(28524),\n",
       " tensor(6082),\n",
       " tensor(0.6797),\n",
       " tensor(0.2269),\n",
       " tensor(0.0770),\n",
       " tensor(0.0164))"
      ]
     },
     "execution_count": 9,
     "metadata": {},
     "output_type": "execute_result"
    }
   ],
   "source": [
    "paper_train_mask = torch.zeros(num_paper_nodes, dtype=torch.bool)\n",
    "paper_val_mask = torch.zeros(num_paper_nodes, dtype=torch.bool)\n",
    "paper_test_mask = torch.zeros(num_paper_nodes, dtype=torch.bool)\n",
    "\n",
    "for P_nid, P_year in enumerate(paper_year_vec.tolist()): \n",
    "    if paper_label_vec[P_nid] > -1:\n",
    "        if P_year < 2014:\n",
    "            pass  \n",
    "        elif P_year >= 2014 and P_year <= 2016: \n",
    "            paper_train_mask[P_nid] = True \n",
    "        elif P_year == 2017: \n",
    "            paper_val_mask[P_nid] = True \n",
    "        else:\n",
    "            paper_test_mask[P_nid] = True \n",
    "            \n",
    "paper_pretrain_mask = ~(paper_train_mask | paper_val_mask | paper_test_mask)\n",
    "\n",
    "paper_pretrain_mask.sum(), \\\n",
    "    paper_train_mask.sum(), \\\n",
    "    paper_val_mask.sum(), \\\n",
    "    paper_test_mask.sum(), \\\n",
    "    paper_pretrain_mask.float().mean(), \\\n",
    "    paper_train_mask.float().mean(), \\\n",
    "    paper_val_mask.float().mean(), \\\n",
    "    paper_test_mask.float().mean()"
   ]
  },
  {
   "cell_type": "code",
   "execution_count": 10,
   "metadata": {},
   "outputs": [],
   "source": [
    "graph_info_dict['paper_label'] = paper_label_vec  \n",
    "graph_info_dict['paper_pretrain_mask'] = paper_pretrain_mask \n",
    "graph_info_dict['paper_train_mask'] = paper_train_mask \n",
    "graph_info_dict['paper_val_mask'] = paper_val_mask \n",
    "graph_info_dict['paper_test_mask'] = paper_test_mask \n",
    "\n",
    "with open(os.path.expanduser('~/dataset/OAG/OAG-Engin/hg_venue.dict.pkl'), 'wb') as fp: \n",
    "    pickle.dump(graph_info_dict, fp) "
   ]
  }
 ],
 "metadata": {
  "kernelspec": {
   "display_name": "base",
   "language": "python",
   "name": "python3"
  },
  "language_info": {
   "codemirror_mode": {
    "name": "ipython",
    "version": 3
   },
   "file_extension": ".py",
   "mimetype": "text/x-python",
   "name": "python",
   "nbconvert_exporter": "python",
   "pygments_lexer": "ipython3",
   "version": "3.9.13"
  },
  "orig_nbformat": 4
 },
 "nbformat": 4,
 "nbformat_minor": 2
}
