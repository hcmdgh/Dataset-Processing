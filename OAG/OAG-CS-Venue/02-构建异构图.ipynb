{
 "cells": [
  {
   "cell_type": "code",
   "execution_count": 1,
   "metadata": {},
   "outputs": [],
   "source": [
    "import pickle \n",
    "\n",
    "with open(\"/home/gh/dataset/OAG/raw/graph_CS.dict.pkl\", \"rb\") as fp:\n",
    "    graph_info = pickle.load(fp) \n",
    "    \n",
    "edge_list = graph_info['edge_list'] \n",
    "node_feature = graph_info['node_feature']\n",
    "node_forward = graph_info['node_forward'] \n",
    "times = graph_info['times']"
   ]
  },
  {
   "cell_type": "code",
   "execution_count": 2,
   "metadata": {},
   "outputs": [
    {
     "data": {
      "text/plain": [
       "544244"
      ]
     },
     "execution_count": 2,
     "metadata": {},
     "output_type": "execute_result"
    }
   ],
   "source": [
    "num_paper_nodes = len(node_feature[\"paper\"])\n",
    "\n",
    "num_paper_nodes"
   ]
  },
  {
   "cell_type": "code",
   "execution_count": 3,
   "metadata": {},
   "outputs": [
    {
     "name": "stderr",
     "output_type": "stream",
     "text": [
      "100%|██████████| 228062/228062 [00:05<00:00, 43498.37it/s]\n"
     ]
    },
    {
     "data": {
      "text/plain": [
       "(tensor(132552), tensor(48799), tensor(19494), tensor(27217))"
      ]
     },
     "execution_count": 3,
     "metadata": {},
     "output_type": "execute_result"
    }
   ],
   "source": [
    "import torch \n",
    "from collections import Counter \n",
    "from tqdm import tqdm \n",
    "\n",
    "paper_label_list = list(edge_list[\"venue\"][\"paper\"][\"PV_Journal\"].keys())\n",
    "paper_label_vec = torch.full(fill_value=-1, size=[num_paper_nodes], dtype=torch.int64) \n",
    "\n",
    "paper_pretrain_mask = torch.zeros(num_paper_nodes, dtype=torch.bool)\n",
    "paper_train_mask = torch.zeros(num_paper_nodes, dtype=torch.bool)\n",
    "paper_val_mask = torch.zeros(num_paper_nodes, dtype=torch.bool)\n",
    "paper_test_mask = torch.zeros(num_paper_nodes, dtype=torch.bool)\n",
    "\n",
    "for paper_id in tqdm(edge_list[\"paper\"][\"venue\"][\"rev_PV_Journal\"]):\n",
    "    for venue_id in edge_list[\"paper\"][\"venue\"][\"rev_PV_Journal\"][paper_id]:\n",
    "        year = int(edge_list[\"paper\"][\"venue\"][\"rev_PV_Journal\"][paper_id][venue_id]) \n",
    "\n",
    "        if year < 2014: \n",
    "            paper_pretrain_mask[paper_id] = True \n",
    "        elif 2014 <= year <= 2016: \n",
    "            paper_train_mask[paper_id] = True \n",
    "        elif year == 2017: \n",
    "            paper_val_mask[paper_id] = True \n",
    "        elif year >= 2018: \n",
    "            paper_test_mask[paper_id] = True \n",
    "        else:\n",
    "            raise AssertionError \n",
    "        \n",
    "        paper_label_vec[paper_id] = paper_label_list.index(venue_id)\n",
    "        \n",
    "paper_pretrain_mask.float().mean(), \\\n",
    "    paper_train_mask.float().mean(), \\\n",
    "    paper_val_mask.float().mean(), \\\n",
    "    paper_test_mask.float().mean()"
   ]
  },
  {
   "cell_type": "code",
   "execution_count": 5,
   "metadata": {},
   "outputs": [
    {
     "data": {
      "text/plain": [
       "(3505, tensor(228062))"
      ]
     },
     "execution_count": 5,
     "metadata": {},
     "output_type": "execute_result"
    }
   ],
   "source": [
    "int(torch.max(paper_label_vec)) + 1, \\\n",
    "    torch.sum(paper_label_vec >= 0)"
   ]
  },
  {
   "cell_type": "code",
   "execution_count": 6,
   "metadata": {},
   "outputs": [
    {
     "name": "stderr",
     "output_type": "stream",
     "text": [
      "100%|██████████| 5/5 [00:04<00:00,  1.21it/s]\n"
     ]
    },
    {
     "data": {
      "text/plain": [
       "{('paper', 'PV_Conference', 'venue'): torch.Size([2, 296775]),\n",
       " ('paper', 'PV_Repository', 'venue'): torch.Size([2, 19216]),\n",
       " ('paper', 'PV_Patent', 'venue'): torch.Size([2, 191]),\n",
       " ('paper', 'PP_cite', 'paper'): torch.Size([2, 5796354]),\n",
       " ('author', 'AP_write_last', 'paper'): torch.Size([2, 429392]),\n",
       " ('author', 'AP_write_other', 'paper'): torch.Size([2, 662167]),\n",
       " ('author', 'AP_write_first', 'paper'): torch.Size([2, 454913]),\n",
       " ('field', 'FF_in', 'field'): torch.Size([2, 262526]),\n",
       " ('paper', 'PF_in_L0', 'field'): torch.Size([2, 544371]),\n",
       " ('paper', 'PF_in_L3', 'field'): torch.Size([2, 866423]),\n",
       " ('paper', 'PF_in_L1', 'field'): torch.Size([2, 1197205]),\n",
       " ('paper', 'PF_in_L2', 'field'): torch.Size([2, 2337525]),\n",
       " ('paper', 'PF_in_L5', 'field'): torch.Size([2, 202221]),\n",
       " ('paper', 'PF_in_L4', 'field'): torch.Size([2, 303541]),\n",
       " ('author', 'AI', 'institution'): torch.Size([2, 612872])}"
      ]
     },
     "execution_count": 6,
     "metadata": {},
     "output_type": "execute_result"
    }
   ],
   "source": [
    "edge_index_dict: dict[tuple[str, str, str], torch.Tensor] = dict() \n",
    "\n",
    "for dtype in tqdm(edge_list):\n",
    "    for src_ntype in edge_list[dtype]:\n",
    "        for rel in edge_list[dtype][src_ntype]:\n",
    "            if rel != \"PV_Journal\" and not rel.startswith(\"rev_\"):\n",
    "                src_list = []\n",
    "                dst_list = []\n",
    "                for dst in edge_list[dtype][src_ntype][rel]:\n",
    "                    for src in edge_list[dtype][src_ntype][rel][dst]:\n",
    "                        src_list.append(src)\n",
    "                        dst_list.append(dst)\n",
    "\n",
    "                edge_index = torch.tensor([src_list, dst_list], dtype=torch.int64) \n",
    "                edge_index_dict[(src_ntype, rel, dtype)] = edge_index \n",
    "                \n",
    "edge_index_dict[('author', 'AI', 'institution')] = edge_index_dict.pop(('author', 'in', 'affiliation'))\n",
    "\n",
    "{ k: v.shape for k, v in edge_index_dict.items() }"
   ]
  },
  {
   "cell_type": "code",
   "execution_count": 9,
   "metadata": {},
   "outputs": [
    {
     "data": {
      "text/plain": [
       "{'author': 510189,\n",
       " 'field': 45717,\n",
       " 'institution': 9079,\n",
       " 'paper': 544244,\n",
       " 'venue': 6933}"
      ]
     },
     "execution_count": 9,
     "metadata": {},
     "output_type": "execute_result"
    }
   ],
   "source": [
    "import dgl \n",
    "\n",
    "hg = dgl.heterograph({k: tuple(v) for k, v in edge_index_dict.items()}) \n",
    "num_nodes_dict = { ntype: hg.num_nodes(ntype) for ntype in hg.ntypes } \n",
    "\n",
    "num_nodes_dict "
   ]
  },
  {
   "cell_type": "code",
   "execution_count": 10,
   "metadata": {},
   "outputs": [
    {
     "data": {
      "text/plain": [
       "torch.Size([544244, 768])"
      ]
     },
     "execution_count": 10,
     "metadata": {},
     "output_type": "execute_result"
    }
   ],
   "source": [
    "paper_feat = torch.tensor(list(node_feature['paper']['emb']), dtype=torch.float32) \n",
    "\n",
    "paper_feat.shape "
   ]
  },
  {
   "cell_type": "code",
   "execution_count": null,
   "metadata": {},
   "outputs": [],
   "source": [
    "with open('/home/gh/dataset/OAG/OAG-CS-Venue/hg.dict.pkl', 'wb') as fp: \n",
    "    pickle.dump(\n",
    "        dict(\n",
    "            edge_index_dict = edge_index_dict, \n",
    "            num_nodes_dict = num_nodes_dict, \n",
    "            paper_feat = paper_feat, \n",
    "            paper_label = paper_label_vec,  \n",
    "            paper_pretrain_mask = paper_pretrain_mask,\n",
    "            paper_train_mask = paper_train_mask,\n",
    "            paper_val_mask = paper_val_mask,\n",
    "            paper_test_mask = paper_test_mask,\n",
    "        ), \n",
    "        fp, \n",
    "    )"
   ]
  }
 ],
 "metadata": {
  "kernelspec": {
   "display_name": "base",
   "language": "python",
   "name": "python3"
  },
  "language_info": {
   "codemirror_mode": {
    "name": "ipython",
    "version": 3
   },
   "file_extension": ".py",
   "mimetype": "text/x-python",
   "name": "python",
   "nbconvert_exporter": "python",
   "pygments_lexer": "ipython3",
   "version": "3.9.13"
  },
  "orig_nbformat": 4
 },
 "nbformat": 4,
 "nbformat_minor": 2
}
