{
 "cells": [
  {
   "cell_type": "code",
   "execution_count": 1,
   "metadata": {},
   "outputs": [
    {
     "data": {
      "text/plain": [
       "<graph.Graph at 0x7f47dc412a10>"
      ]
     },
     "execution_count": 1,
     "metadata": {},
     "output_type": "execute_result"
    }
   ],
   "source": [
    "import dill \n",
    "from collections import defaultdict\n",
    "\n",
    "\n",
    "class RenameUnpickler(dill.Unpickler):\n",
    "    def find_class(self, module, name):\n",
    "        renamed_module = module\n",
    "        if module == \"GPT_GNN.data\" or module == \"data\":\n",
    "            renamed_module = 'graph'  \n",
    "        return super(RenameUnpickler, self).find_class(renamed_module, name)\n",
    "\n",
    "\n",
    "with open(\"/home/gh/dataset/OAG/raw/graph_CS.pk\", \"rb\") as fp:\n",
    "    graph = RenameUnpickler(fp).load()\n",
    "    \n",
    "graph "
   ]
  },
  {
   "cell_type": "code",
   "execution_count": 2,
   "metadata": {},
   "outputs": [
    {
     "data": {
      "text/plain": [
       "['__class__',\n",
       " '__delattr__',\n",
       " '__dict__',\n",
       " '__dir__',\n",
       " '__doc__',\n",
       " '__eq__',\n",
       " '__format__',\n",
       " '__ge__',\n",
       " '__getattribute__',\n",
       " '__gt__',\n",
       " '__hash__',\n",
       " '__init__',\n",
       " '__init_subclass__',\n",
       " '__le__',\n",
       " '__lt__',\n",
       " '__module__',\n",
       " '__ne__',\n",
       " '__new__',\n",
       " '__reduce__',\n",
       " '__reduce_ex__',\n",
       " '__repr__',\n",
       " '__setattr__',\n",
       " '__sizeof__',\n",
       " '__str__',\n",
       " '__subclasshook__',\n",
       " '__weakref__',\n",
       " 'edge_list',\n",
       " 'node_feature',\n",
       " 'node_forward',\n",
       " 'times']"
      ]
     },
     "execution_count": 2,
     "metadata": {},
     "output_type": "execute_result"
    }
   ],
   "source": [
    "dir(graph)"
   ]
  },
  {
   "cell_type": "code",
   "execution_count": null,
   "metadata": {},
   "outputs": [],
   "source": [
    "import pickle \n",
    "\n",
    "edge_list = dict(graph.edge_list) \n",
    "node_feature = dict(graph.node_feature) \n",
    "node_forward = dict(graph.node_forward) \n",
    "times = dict(graph.times)  \n",
    "\n",
    "with open(\"/home/gh/dataset/OAG/raw/graph_CS.dict.pkl\", \"wb\") as fp:\n",
    "    pickle.dump(\n",
    "        dict(\n",
    "            edge_list = edge_list, \n",
    "            node_feature = node_feature, \n",
    "            node_forward = node_forward, \n",
    "            times = times, \n",
    "        ),\n",
    "        fp, \n",
    "    )"
   ]
  }
 ],
 "metadata": {
  "kernelspec": {
   "display_name": "base",
   "language": "python",
   "name": "python3"
  },
  "language_info": {
   "codemirror_mode": {
    "name": "ipython",
    "version": 3
   },
   "file_extension": ".py",
   "mimetype": "text/x-python",
   "name": "python",
   "nbconvert_exporter": "python",
   "pygments_lexer": "ipython3",
   "version": "3.7.16"
  },
  "orig_nbformat": 4
 },
 "nbformat": 4,
 "nbformat_minor": 2
}
