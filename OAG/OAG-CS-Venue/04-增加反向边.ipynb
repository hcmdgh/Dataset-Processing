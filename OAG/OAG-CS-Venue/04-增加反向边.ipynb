{
 "cells": [
  {
   "cell_type": "code",
   "execution_count": 10,
   "metadata": {},
   "outputs": [
    {
     "data": {
      "text/plain": [
       "{('paper', 'PV_Conference', 'venue'): torch.Size([2, 296775]),\n",
       " ('paper', 'PV_Repository', 'venue'): torch.Size([2, 19216]),\n",
       " ('paper', 'PV_Patent', 'venue'): torch.Size([2, 191]),\n",
       " ('paper', 'PP_cite', 'paper'): torch.Size([2, 5796354]),\n",
       " ('author', 'AP_write_last', 'paper'): torch.Size([2, 429392]),\n",
       " ('author', 'AP_write_other', 'paper'): torch.Size([2, 662167]),\n",
       " ('author', 'AP_write_first', 'paper'): torch.Size([2, 454913]),\n",
       " ('field', 'FF_in', 'field'): torch.Size([2, 262526]),\n",
       " ('paper', 'PF_in_L0', 'field'): torch.Size([2, 544371]),\n",
       " ('paper', 'PF_in_L3', 'field'): torch.Size([2, 866423]),\n",
       " ('paper', 'PF_in_L1', 'field'): torch.Size([2, 1197205]),\n",
       " ('paper', 'PF_in_L2', 'field'): torch.Size([2, 2337525]),\n",
       " ('paper', 'PF_in_L5', 'field'): torch.Size([2, 202221]),\n",
       " ('paper', 'PF_in_L4', 'field'): torch.Size([2, 303541]),\n",
       " ('author', 'AI', 'institution'): torch.Size([2, 612872])}"
      ]
     },
     "execution_count": 10,
     "metadata": {},
     "output_type": "execute_result"
    }
   ],
   "source": [
    "import pickle \n",
    "import torch \n",
    "\n",
    "with open('/home/gh/dataset/OAG/OAG-CS-Venue/hg.dict.pkl', 'rb') as fp: \n",
    "    graph_info_dict = pickle.load(fp) \n",
    "    \n",
    "edge_index_dict = graph_info_dict['edge_index_dict'] \n",
    "\n",
    "{ k: v.shape for k, v in edge_index_dict.items() }"
   ]
  },
  {
   "cell_type": "code",
   "execution_count": 11,
   "metadata": {},
   "outputs": [
    {
     "data": {
      "text/plain": [
       "{('author', 'AI', 'institution'): torch.Size([2, 612872]),\n",
       " ('paper', 'PF_L0', 'field'): torch.Size([2, 544371]),\n",
       " ('field', 'FP_L0', 'paper'): torch.Size([2, 544371]),\n",
       " ('paper', 'PF_L1', 'field'): torch.Size([2, 1197205]),\n",
       " ('field', 'FP_L1', 'paper'): torch.Size([2, 1197205]),\n",
       " ('paper', 'PF_L2', 'field'): torch.Size([2, 2337525]),\n",
       " ('field', 'FP_L2', 'paper'): torch.Size([2, 2337525]),\n",
       " ('paper', 'PF_L3', 'field'): torch.Size([2, 866423]),\n",
       " ('field', 'FP_L3', 'paper'): torch.Size([2, 866423]),\n",
       " ('paper', 'PF_L4', 'field'): torch.Size([2, 303541]),\n",
       " ('field', 'FP_L4', 'paper'): torch.Size([2, 303541]),\n",
       " ('paper', 'PF_L5', 'field'): torch.Size([2, 202221]),\n",
       " ('field', 'FP_L5', 'paper'): torch.Size([2, 202221]),\n",
       " ('institution', 'IA', 'author'): torch.Size([2, 612872]),\n",
       " ('author', 'AP', 'paper'): torch.Size([2, 1546472]),\n",
       " ('paper', 'PA', 'author'): torch.Size([2, 1546472]),\n",
       " ('paper', 'PP', 'paper'): torch.Size([2, 11577794])}"
      ]
     },
     "execution_count": 11,
     "metadata": {},
     "output_type": "execute_result"
    }
   ],
   "source": [
    "edge_index_dict[('paper', 'PF_L0', 'field')] = edge_index_dict.pop(('paper', 'PF_in_L0', 'field'))\n",
    "edge_index_dict[('field', 'FP_L0', 'paper')] = torch.flip(edge_index_dict[('paper', 'PF_L0', 'field')], dims=[0])\n",
    "edge_index_dict[('paper', 'PF_L1', 'field')] = edge_index_dict.pop(('paper', 'PF_in_L1', 'field'))\n",
    "edge_index_dict[('field', 'FP_L1', 'paper')] = torch.flip(edge_index_dict[('paper', 'PF_L1', 'field')], dims=[0])\n",
    "edge_index_dict[('paper', 'PF_L2', 'field')] = edge_index_dict.pop(('paper', 'PF_in_L2', 'field'))\n",
    "edge_index_dict[('field', 'FP_L2', 'paper')] = torch.flip(edge_index_dict[('paper', 'PF_L2', 'field')], dims=[0])\n",
    "edge_index_dict[('paper', 'PF_L3', 'field')] = edge_index_dict.pop(('paper', 'PF_in_L3', 'field'))\n",
    "edge_index_dict[('field', 'FP_L3', 'paper')] = torch.flip(edge_index_dict[('paper', 'PF_L3', 'field')], dims=[0])\n",
    "edge_index_dict[('paper', 'PF_L4', 'field')] = edge_index_dict.pop(('paper', 'PF_in_L4', 'field'))\n",
    "edge_index_dict[('field', 'FP_L4', 'paper')] = torch.flip(edge_index_dict[('paper', 'PF_L4', 'field')], dims=[0])\n",
    "edge_index_dict[('paper', 'PF_L5', 'field')] = edge_index_dict.pop(('paper', 'PF_in_L5', 'field'))\n",
    "edge_index_dict[('field', 'FP_L5', 'paper')] = torch.flip(edge_index_dict[('paper', 'PF_L5', 'field')], dims=[0])\n",
    "\n",
    "edge_index_dict[('institution', 'IA', 'author')] = torch.flip(edge_index_dict[('author', 'AI', 'institution')], dims=[0])\n",
    "\n",
    "AP_edge_index = torch.cat([\n",
    "    edge_index_dict.pop(('author', 'AP_write_first', 'paper')),\n",
    "    edge_index_dict.pop(('author', 'AP_write_other', 'paper')),\n",
    "    edge_index_dict.pop(('author', 'AP_write_last', 'paper')),\n",
    "], dim=-1)\n",
    "AP_edge_index = torch.unique(AP_edge_index, dim=-1) \n",
    "edge_index_dict[('author', 'AP', 'paper')] = AP_edge_index\n",
    "edge_index_dict[('paper', 'PA', 'author')] = torch.flip(AP_edge_index, dims=[0]) \n",
    "\n",
    "PP_edge_index = edge_index_dict.pop(('paper', 'PP_cite', 'paper'))\n",
    "PP_edge_index = torch.cat([PP_edge_index, torch.flip(PP_edge_index, dims=[0])], dim=-1) \n",
    "PP_edge_index = torch.unique(PP_edge_index, dim=-1) \n",
    "edge_index_dict[('paper', 'PP', 'paper')] = PP_edge_index \n",
    "\n",
    "del edge_index_dict[('paper', 'PV_Conference', 'venue')]\n",
    "del edge_index_dict[('paper', 'PV_Repository', 'venue')]\n",
    "del edge_index_dict[('paper', 'PV_Patent', 'venue')]\n",
    "del edge_index_dict[('field', 'FF_in', 'field')]\n",
    "\n",
    "{ k: v.shape for k, v in edge_index_dict.items() }"
   ]
  },
  {
   "cell_type": "code",
   "execution_count": 12,
   "metadata": {},
   "outputs": [],
   "source": [
    "with open('/home/gh/dataset/OAG/OAG-CS-Venue/hg_undirected.dict.pkl', 'wb') as fp: \n",
    "    pickle.dump(graph_info_dict, fp) "
   ]
  }
 ],
 "metadata": {
  "kernelspec": {
   "display_name": "base",
   "language": "python",
   "name": "python3"
  },
  "language_info": {
   "codemirror_mode": {
    "name": "ipython",
    "version": 3
   },
   "file_extension": ".py",
   "mimetype": "text/x-python",
   "name": "python",
   "nbconvert_exporter": "python",
   "pygments_lexer": "ipython3",
   "version": "3.9.13"
  },
  "orig_nbformat": 4
 },
 "nbformat": 4,
 "nbformat_minor": 2
}
