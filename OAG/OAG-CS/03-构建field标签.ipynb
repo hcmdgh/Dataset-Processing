{
 "cells": [
  {
   "cell_type": "code",
   "execution_count": null,
   "metadata": {},
   "outputs": [],
   "source": [
    "paper_pretrain_mask = torch.zeros(num_paper_nodes, dtype=torch.bool)\n",
    "paper_train_mask = torch.zeros(num_paper_nodes, dtype=torch.bool)\n",
    "paper_val_mask = torch.zeros(num_paper_nodes, dtype=torch.bool)\n",
    "paper_test_mask = torch.zeros(num_paper_nodes, dtype=torch.bool)\n",
    "\n",
    "paper_pretrain_mask[paper_year_vec < 2014] = True \n",
    "paper_train_mask[(paper_year_vec >= 2014) & (paper_year_vec <= 2016)] = True \n",
    "paper_val_mask[paper_year_vec == 2017] = True \n",
    "paper_test_mask[paper_year_vec >= 2018] = True \n",
    "\n",
    "paper_pretrain_mask.float().mean(), \\\n",
    "    paper_train_mask.float().mean(), \\\n",
    "    paper_val_mask.float().mean(), \\\n",
    "    paper_test_mask.float().mean()"
   ]
  },
  {
   "cell_type": "code",
   "execution_count": null,
   "metadata": {},
   "outputs": [],
   "source": [
    "PF_edge_index = edge_index_dict[('paper', 'PF_L1', 'field')] \n",
    "\n",
    "field_remap: dict[int, int] = dict() \n",
    "\n",
    "for paper_nid, field_nid in zip(*PF_edge_index.tolist()):\n",
    "    if field_nid not in field_remap: \n",
    "        field_remap[field_nid] = len(field_remap) \n",
    "        \n",
    "paper_field_label_mat = torch.zeros([num_paper_nodes, len(field_remap)], dtype=torch.bool)\n",
    "        \n",
    "for paper_nid, field_nid in zip(*PF_edge_index.tolist()):\n",
    "    label_id = field_remap[field_nid] \n",
    "    \n",
    "    paper_field_label_mat[paper_nid, label_id] = True \n",
    "\n",
    "paper_field_label_mat.shape, \\\n",
    "    paper_field_label_mat.float().mean() "
   ]
  }
 ],
 "metadata": {
  "language_info": {
   "name": "python"
  },
  "orig_nbformat": 4
 },
 "nbformat": 4,
 "nbformat_minor": 2
}
