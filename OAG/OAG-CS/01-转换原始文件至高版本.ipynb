{
 "cells": [
  {
   "cell_type": "code",
   "execution_count": 1,
   "metadata": {},
   "outputs": [
    {
     "data": {
      "text/plain": [
       "<graph.Graph at 0x7fef74585d90>"
      ]
     },
     "execution_count": 1,
     "metadata": {},
     "output_type": "execute_result"
    }
   ],
   "source": [
    "import os \n",
    "import dill \n",
    "from collections import defaultdict\n",
    "\n",
    "\n",
    "class RenameUnpickler(dill.Unpickler):\n",
    "    def find_class(self, module, name):\n",
    "        renamed_module = module\n",
    "        # if module == \"GPT_GNN.data\" or module == \"data\":\n",
    "        #     renamed_module = 'graph'  \n",
    "        if module == \"pyHGT.data\" or module == 'data' or module == 'GPT_GNN.data':\n",
    "            renamed_module = \"graph\"\n",
    "        return super(RenameUnpickler, self).find_class(renamed_module, name)\n",
    "\n",
    "with open(os.path.expanduser(\"~/dataset/OAG/raw/PT-HGNN/graph_CS_20190919.pk\"), \"rb\") as fp:\n",
    "    graph = RenameUnpickler(fp).load()\n",
    "    \n",
    "graph "
   ]
  },
  {
   "cell_type": "code",
   "execution_count": 2,
   "metadata": {},
   "outputs": [
    {
     "data": {
      "text/plain": [
       "{'edge_list', 'node_feature', 'node_forward', 'times'}"
      ]
     },
     "execution_count": 2,
     "metadata": {},
     "output_type": "execute_result"
    }
   ],
   "source": [
    "{ x for x in dir(graph) if not x.startswith('__') }"
   ]
  },
  {
   "cell_type": "code",
   "execution_count": 3,
   "metadata": {},
   "outputs": [],
   "source": [
    "import pickle \n",
    "\n",
    "edge_list = dict(graph.edge_list) \n",
    "node_feature = dict(graph.node_feature) \n",
    "node_forward = dict(graph.node_forward) \n",
    "times = dict(graph.times)  \n",
    "\n",
    "with open(os.path.expanduser(\"~/dataset/OAG/raw/PT-HGNN/graph_CS_20190919.dict.pkl\"), \"wb\") as fp:\n",
    "    pickle.dump(\n",
    "        dict(\n",
    "            edge_list = edge_list, \n",
    "            node_feature = node_feature, \n",
    "            node_forward = node_forward, \n",
    "            times = times, \n",
    "        ),\n",
    "        fp, \n",
    "    )"
   ]
  }
 ],
 "metadata": {
  "kernelspec": {
   "display_name": "base",
   "language": "python",
   "name": "python3"
  },
  "language_info": {
   "codemirror_mode": {
    "name": "ipython",
    "version": 3
   },
   "file_extension": ".py",
   "mimetype": "text/x-python",
   "name": "python",
   "nbconvert_exporter": "python",
   "pygments_lexer": "ipython3",
   "version": "3.9.13"
  },
  "orig_nbformat": 4
 },
 "nbformat": 4,
 "nbformat_minor": 2
}
