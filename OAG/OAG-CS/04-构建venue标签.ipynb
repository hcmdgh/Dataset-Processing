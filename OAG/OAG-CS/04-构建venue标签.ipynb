{
 "cells": [
  {
   "cell_type": "code",
   "execution_count": 1,
   "metadata": {},
   "outputs": [
    {
     "data": {
      "text/plain": [
       "(torch.Size([2, 228062]), torch.Size([544244]))"
      ]
     },
     "execution_count": 1,
     "metadata": {},
     "output_type": "execute_result"
    }
   ],
   "source": [
    "import os \n",
    "import pickle \n",
    "import torch \n",
    "\n",
    "with open(os.path.expanduser('~/dataset/OAG/OAG-CS/hg_full.dict.pkl'), 'rb') as fp: \n",
    "    graph_info_dict = pickle.load(fp) \n",
    "    \n",
    "PV_edge_index = graph_info_dict['edge_index_dict'][('paper', 'PV_Journal', 'venue')]\n",
    "paper_year = graph_info_dict['paper_year'] \n",
    "num_paper_nodes = len(paper_year) \n",
    "\n",
    "PV_edge_index.shape, paper_year.shape "
   ]
  },
  {
   "cell_type": "code",
   "execution_count": 2,
   "metadata": {},
   "outputs": [
    {
     "data": {
      "text/plain": [
       "(2442,\n",
       " tensor(48799),\n",
       " tensor(19494),\n",
       " tensor(27217),\n",
       " tensor(0.0897),\n",
       " tensor(0.0358),\n",
       " tensor(0.0500))"
      ]
     },
     "execution_count": 2,
     "metadata": {},
     "output_type": "execute_result"
    }
   ],
   "source": [
    "PV_adj_dict: dict[int, int] = dict() \n",
    "\n",
    "for P_nid, V_nid in zip(*PV_edge_index.tolist()): \n",
    "    PV_adj_dict[P_nid] = V_nid \n",
    "    \n",
    "paper_venue_label = torch.full(fill_value=-1, size=[num_paper_nodes], dtype=torch.int64) \n",
    "paper_train_mask = torch.zeros(num_paper_nodes, dtype=torch.bool)\n",
    "paper_val_mask = torch.zeros(num_paper_nodes, dtype=torch.bool)\n",
    "paper_test_mask = torch.zeros(num_paper_nodes, dtype=torch.bool)\n",
    "\n",
    "venue_remap: dict[int, int] = dict() \n",
    "\n",
    "for P_nid, P_year in enumerate(paper_year.tolist()): \n",
    "    if P_year >= 2014: \n",
    "        if P_nid in PV_adj_dict: \n",
    "            V_nid = PV_adj_dict[P_nid] \n",
    "            \n",
    "            if V_nid not in venue_remap: \n",
    "                venue_remap[V_nid] = len(venue_remap) \n",
    "                \n",
    "            label_id = venue_remap[V_nid]\n",
    "            \n",
    "            paper_venue_label[P_nid] = label_id \n",
    "            \n",
    "            if P_year <= 2016:\n",
    "                paper_train_mask[P_nid] = True \n",
    "            elif P_year == 2017:\n",
    "                paper_val_mask[P_nid] = True \n",
    "            else:\n",
    "                paper_test_mask[P_nid] = True \n",
    "\n",
    "int(torch.max(paper_venue_label)) + 1, \\\n",
    "    paper_train_mask.sum(), \\\n",
    "    paper_val_mask.sum(), \\\n",
    "    paper_test_mask.sum(), \\\n",
    "    paper_train_mask.float().mean(), \\\n",
    "    paper_val_mask.float().mean(), \\\n",
    "    paper_test_mask.float().mean()"
   ]
  },
  {
   "cell_type": "code",
   "execution_count": 3,
   "metadata": {},
   "outputs": [
    {
     "data": {
      "text/plain": [
       "(tensor(448734), tensor(0.8245))"
      ]
     },
     "execution_count": 3,
     "metadata": {},
     "output_type": "execute_result"
    }
   ],
   "source": [
    "paper_pretrain_mask = ~(paper_train_mask | paper_val_mask | paper_test_mask)\n",
    "\n",
    "paper_pretrain_mask.sum(), \\\n",
    "    paper_pretrain_mask.float().mean() "
   ]
  },
  {
   "cell_type": "code",
   "execution_count": 4,
   "metadata": {},
   "outputs": [],
   "source": [
    "graph_info_dict['paper_venue_label'] = paper_venue_label \n",
    "graph_info_dict['paper_pretrain_mask'] = paper_pretrain_mask \n",
    "graph_info_dict['paper_train_mask'] = paper_train_mask \n",
    "graph_info_dict['paper_val_mask'] = paper_val_mask \n",
    "graph_info_dict['paper_test_mask'] = paper_test_mask \n",
    "\n",
    "with open(os.path.expanduser('~/dataset/OAG/OAG-CS/hg_venue.pkl'), 'wb') as fp: \n",
    "    pickle.dump(graph_info_dict, fp) "
   ]
  }
 ],
 "metadata": {
  "kernelspec": {
   "display_name": "base",
   "language": "python",
   "name": "python3"
  },
  "language_info": {
   "codemirror_mode": {
    "name": "ipython",
    "version": 3
   },
   "file_extension": ".py",
   "mimetype": "text/x-python",
   "name": "python",
   "nbconvert_exporter": "python",
   "pygments_lexer": "ipython3",
   "version": "3.9.13"
  },
  "orig_nbformat": 4
 },
 "nbformat": 4,
 "nbformat_minor": 2
}
